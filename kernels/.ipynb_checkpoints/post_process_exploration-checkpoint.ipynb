{
 "cells": [
  {
   "cell_type": "code",
   "execution_count": 2,
   "metadata": {},
   "outputs": [],
   "source": [
    "import pandas as pd\n",
    "import numpy as np\n",
    "import pickle as pk\n",
    "from sklearn.metrics import r2_score, log_loss\n",
    "from matplotlib import pyplot as plt"
   ]
  },
  {
   "cell_type": "code",
   "execution_count": 3,
   "metadata": {},
   "outputs": [],
   "source": [
    "from sigma_score import sigma_score"
   ]
  },
  {
   "cell_type": "code",
   "execution_count": 4,
   "metadata": {},
   "outputs": [
    {
     "name": "stdout",
     "output_type": "stream",
     "text": [
      "Preparing test data..\n"
     ]
    }
   ],
   "source": [
    "print(\"Preparing test data..\")\n",
    "market_test_df = pd.read_csv(\"data/market_test_df.csv\").drop('Unnamed: 0', axis=1)\n",
    "test_target = market_test_df['returnsOpenNextMktres10']\n",
    "test_target = test_target.clip(test_target.quantile(0.001), test_target.quantile(0.999))\n",
    "test_time = market_test_df['time']\n",
    "market_test_df.drop(['returnsOpenNextMktres10'], axis=1, inplace=True)"
   ]
  },
  {
   "cell_type": "code",
   "execution_count": 5,
   "metadata": {},
   "outputs": [
    {
     "data": {
      "text/plain": [
       "('2016-10-13 22:00:00+00:00', '2016-12-30 22:00:00+00:00')"
      ]
     },
     "execution_count": 5,
     "metadata": {},
     "output_type": "execute_result"
    }
   ],
   "source": [
    "test_time[0], test_time[len(test_time) - 1]"
   ]
  },
  {
   "cell_type": "code",
   "execution_count": 19,
   "metadata": {},
   "outputs": [],
   "source": [
    "paths = ['DecisionTree.model_lgbm_binary_bagged', 'DecisionTree.model_lgbm_binary_bagged_random_validation']\n",
    "p1, p2 = [pk.load(open(\"predictions/\"+path, \"rb\")) for path in paths]"
   ]
  },
  {
   "cell_type": "code",
   "execution_count": 20,
   "metadata": {},
   "outputs": [
    {
     "data": {
      "image/png": "[encoded data removed]",
      "text/plain": [
       "<Figure size 1080x360 with 2 Axes>"
      ]
     },
     "metadata": {
      "needs_background": "light"
     },
     "output_type": "display_data"
    },
    {
     "data": {
      "image/png": "[encoded data removed]",
      "text/plain": [
       "<Figure size 432x288 with 1 Axes>"
      ]
     },
     "metadata": {
      "needs_background": "light"
     },
     "output_type": "display_data"
    }
   ],
   "source": [
    "def look(p1,p2):\n",
    "    plt.figure(figsize=(15,5))\n",
    "    plt.subplot(121)\n",
    "    plt.hist(p1, bins='auto')\n",
    "    plt.title('p1')\n",
    "    plt.subplot(122)\n",
    "    plt.hist(p2, bins='auto')\n",
    "    plt.title('p2')\n",
    "    plt.show()\n",
    "    plt.hist(p1, bins='auto', label='p1', alpha=0.5)\n",
    "    plt.hist(p2, bins='auto', label='p2', alpha=0.5)\n",
    "    plt.hist(test_target, bins='auto', label='target', alpha=0.5)\n",
    "    plt.legend()\n",
    "    plt.show()\n",
    "look(p1,p2)"
   ]
  },
  {
   "cell_type": "code",
   "execution_count": 83,
   "metadata": {},
   "outputs": [
    {
     "data": {
      "text/plain": [
       "0.18594940880480182"
      ]
     },
     "execution_count": 83,
     "metadata": {},
     "output_type": "execute_result"
    }
   ],
   "source": [
    "sigma_score(p1, test_target, test_time)"
   ]
  },
  {
   "cell_type": "code",
   "execution_count": 26,
   "metadata": {},
   "outputs": [
    {
     "data": {
      "text/plain": [
       "0.570096193487482"
      ]
     },
     "execution_count": 26,
     "metadata": {},
     "output_type": "execute_result"
    }
   ],
   "source": [
    "sigma_score(p2, test_target, test_time)"
   ]
  },
  {
   "cell_type": "code",
   "execution_count": 122,
   "metadata": {},
   "outputs": [
    {
     "data": {
      "text/plain": [
       "1.7110472827178251"
      ]
     },
     "execution_count": 122,
     "metadata": {},
     "output_type": "execute_result"
    }
   ],
   "source": [
    "sigma_score(test_target, test_target, test_time)"
   ]
  },
  {
   "cell_type": "code",
   "execution_count": 37,
   "metadata": {},
   "outputs": [
    {
     "data": {
      "text/plain": [
       "-14.332990912031496"
      ]
     },
     "execution_count": 37,
     "metadata": {},
     "output_type": "execute_result"
    }
   ],
   "source": [
    "r2_score(test_target, p2)"
   ]
  },
  {
   "cell_type": "code",
   "execution_count": 44,
   "metadata": {},
   "outputs": [
    {
     "data": {
      "text/plain": [
       "-3.2603361062855214"
      ]
     },
     "execution_count": 44,
     "metadata": {},
     "output_type": "execute_result"
    }
   ],
   "source": [
    "r2_score(test_target, p1)"
   ]
  },
  {
   "cell_type": "code",
   "execution_count": 81,
   "metadata": {},
   "outputs": [
    {
     "data": {
      "text/plain": [
       "-3.432863230743177"
      ]
     },
     "execution_count": 81,
     "metadata": {},
     "output_type": "execute_result"
    }
   ],
   "source": [
    "r2_score(test_target, p2 / 2)"
   ]
  },
  {
   "cell_type": "code",
   "execution_count": 82,
   "metadata": {},
   "outputs": [
    {
     "data": {
      "text/plain": [
       "-0.7861313638425607"
      ]
     },
     "execution_count": 82,
     "metadata": {},
     "output_type": "execute_result"
    }
   ],
   "source": [
    "r2_score(test_target, p1 / 2)"
   ]
  },
  {
   "cell_type": "code",
   "execution_count": 86,
   "metadata": {},
   "outputs": [
    {
     "data": {
      "text/plain": [
       "0.570096193487482"
      ]
     },
     "execution_count": 86,
     "metadata": {},
     "output_type": "execute_result"
    }
   ],
   "source": [
    "sigma_score(p2 / 2, test_target, test_time)"
   ]
  },
  {
   "cell_type": "code",
   "execution_count": 87,
   "metadata": {},
   "outputs": [
    {
     "data": {
      "text/plain": [
       "0.18594940880480182"
      ]
     },
     "execution_count": 87,
     "metadata": {},
     "output_type": "execute_result"
    }
   ],
   "source": [
    "sigma_score(p1 / 2, test_target, test_time)"
   ]
  },
  {
   "cell_type": "code",
   "execution_count": 92,
   "metadata": {},
   "outputs": [],
   "source": [
    "#log loss preparation\n",
    "binary_test_target = test_target.mask(test_target > 0, 1)\n",
    "binary_test_target.mask(test_target < 0, -1, inplace=True)\n",
    "binary_test_target = binary_test_target.map({1.0:'b',-1.0:'a'})\n",
    "#[*zip(binary_test_target, test_target)][:15]"
   ]
  },
  {
   "cell_type": "code",
   "execution_count": 88,
   "metadata": {},
   "outputs": [],
   "source": [
    "binary_pred = lambda p: (p / 2) + 0.5\n",
    "pp1 = binary_pred(p1)\n",
    "pp2 = binary_pred(p2)"
   ]
  },
  {
   "cell_type": "code",
   "execution_count": 97,
   "metadata": {},
   "outputs": [
    {
     "data": {
      "text/plain": [
       "[('a', 0.395861466376278),\n",
       " ('a', 0.39613851064222816),\n",
       " ('a', 0.6413148611437441),\n",
       " ('a', 0.5768195818095674),\n",
       " ('a', 0.6524092160014978),\n",
       " ('a', 0.49712897850632154),\n",
       " ('a', 0.45500245558839525),\n",
       " ('a', 0.44518762464871425),\n",
       " ('a', 0.44674457046245786),\n",
       " ('a', 0.34506149280764653),\n",
       " ('b', 0.5585037306979215),\n",
       " ('a', 0.6735048714260801),\n",
       " ('a', 0.4600580691289548),\n",
       " ('a', 0.5196528800856361),\n",
       " ('a', 0.463830246033172)]"
      ]
     },
     "execution_count": 97,
     "metadata": {},
     "output_type": "execute_result"
    }
   ],
   "source": [
    "[*zip(binary_test_target, pp1)][:15]"
   ]
  },
  {
   "cell_type": "code",
   "execution_count": 118,
   "metadata": {},
   "outputs": [
    {
     "data": {
      "text/plain": [
       "0.6924887229648995"
      ]
     },
     "execution_count": 118,
     "metadata": {},
     "output_type": "execute_result"
    }
   ],
   "source": [
    "log_loss(binary_test_target, [*zip(1 - pp1, pp1)])"
   ]
  },
  {
   "cell_type": "code",
   "execution_count": 119,
   "metadata": {},
   "outputs": [
    {
     "data": {
      "text/plain": [
       "0.7108157394308422"
      ]
     },
     "execution_count": 119,
     "metadata": {},
     "output_type": "execute_result"
    }
   ],
   "source": [
    "log_loss(binary_test_target, [*zip(1 - pp2, pp2)])"
   ]
  },
  {
   "cell_type": "code",
   "execution_count": 123,
   "metadata": {},
   "outputs": [
    {
     "data": {
      "text/plain": [
       "14.091075960838356"
      ]
     },
     "execution_count": 123,
     "metadata": {},
     "output_type": "execute_result"
    }
   ],
   "source": [
    "sigma_score(1/test_target, test_target, test_time)"
   ]
  },
  {
   "cell_type": "code",
   "execution_count": 124,
   "metadata": {},
   "outputs": [
    {
     "data": {
      "text/plain": [
       "-0.20514605390498586"
      ]
     },
     "execution_count": 124,
     "metadata": {},
     "output_type": "execute_result"
    }
   ],
   "source": [
    "sigma_score(1/p2, test_target, test_time)"
   ]
  },
  {
   "cell_type": "code",
   "execution_count": 125,
   "metadata": {},
   "outputs": [
    {
     "data": {
      "text/plain": [
       "-0.12443747604040976"
      ]
     },
     "execution_count": 125,
     "metadata": {},
     "output_type": "execute_result"
    }
   ],
   "source": [
    "sigma_score(1/p1, test_target, test_time)"
   ]
  },
  {
   "cell_type": "code",
   "execution_count": 135,
   "metadata": {},
   "outputs": [],
   "source": [
    "normalize = lambda p: ((p - p.min())/(p.max() - p.min()) - 0.5)"
   ]
  },
  {
   "cell_type": "code",
   "execution_count": 136,
   "metadata": {},
   "outputs": [],
   "source": [
    "np1,np2=normalize(p1),normalize(p2)"
   ]
  },
  {
   "cell_type": "code",
   "execution_count": 137,
   "metadata": {},
   "outputs": [
    {
     "data": {
      "image/png": "[encoded data removed]",
      "text/plain": [
       "<Figure size 1080x360 with 2 Axes>"
      ]
     },
     "metadata": {
      "needs_background": "light"
     },
     "output_type": "display_data"
    },
    {
     "data": {
      "image/png": "[encoded data removed]",
      "text/plain": [
       "<Figure size 432x288 with 1 Axes>"
      ]
     },
     "metadata": {
      "needs_background": "light"
     },
     "output_type": "display_data"
    }
   ],
   "source": [
    "look(np1,np2)"
   ]
  },
  {
   "cell_type": "code",
   "execution_count": 24,
   "metadata": {},
   "outputs": [],
   "source": [
    "def scoring(np1,np2):\n",
    "    print(sigma_score(np1, test_target, test_time))\n",
    "    print(sigma_score(np2, test_target, test_time))\n",
    "    print(sigma_score(1/np1, test_target, test_time))\n",
    "    print(sigma_score(1/np2, test_target, test_time))\n",
    "    print(r2_score(test_target, np1))\n",
    "    print(r2_score(test_target, np2))"
   ]
  },
  {
   "cell_type": "code",
   "execution_count": 154,
   "metadata": {},
   "outputs": [
    {
     "name": "stdout",
     "output_type": "stream",
     "text": [
      "0.268086933134539\n",
      "0.5836422401346573\n",
      "0.05873922955926762\n",
      "0.13426132424452356\n",
      "-3.8856464502395607\n",
      "-4.647721273088037\n"
     ]
    }
   ],
   "source": [
    "scoring(np1,np2)"
   ]
  },
  {
   "cell_type": "code",
   "execution_count": 14,
   "metadata": {},
   "outputs": [],
   "source": [
    "def normalize_in_range(p, left, right):\n",
    "    a = (right-left)/(max(p)-min(p))\n",
    "    b = right - a * max(p)\n",
    "    return a * p + b\n",
    "    #m1,mt=np.mean(res),np.mean(test_target)\n",
    "    #return res + (mt - m1)"
   ]
  },
  {
   "cell_type": "code",
   "execution_count": 182,
   "metadata": {},
   "outputs": [
    {
     "name": "stdout",
     "output_type": "stream",
     "text": [
      "-0.21506760197753144 0.18713377218537564\n"
     ]
    }
   ],
   "source": [
    "m,M = test_target.quantile(0.01), test_target.quantile(0.99)\n",
    "print(m,M)"
   ]
  },
  {
   "cell_type": "code",
   "execution_count": 183,
   "metadata": {},
   "outputs": [],
   "source": [
    "nnp1,nnp2=normalize_in_range(p1,m,M),normalize_in_range(p2,m,M)"
   ]
  },
  {
   "cell_type": "code",
   "execution_count": 184,
   "metadata": {},
   "outputs": [
    {
     "data": {
      "image/png": "[encoded data removed]",
      "text/plain": [
       "<Figure size 1080x360 with 2 Axes>"
      ]
     },
     "metadata": {
      "needs_background": "light"
     },
     "output_type": "display_data"
    },
    {
     "data": {
      "image/png": "[encoded data removed]",
      "text/plain": [
       "<Figure size 432x288 with 1 Axes>"
      ]
     },
     "metadata": {
      "needs_background": "light"
     },
     "output_type": "display_data"
    }
   ],
   "source": [
    "look(nnp1,nnp2)"
   ]
  },
  {
   "cell_type": "code",
   "execution_count": 185,
   "metadata": {},
   "outputs": [
    {
     "name": "stdout",
     "output_type": "stream",
     "text": [
      "0.3145751908378964\n",
      "0.5819466447466219\n",
      "-0.12027684040582123\n",
      "0.0064864282636919604\n",
      "-0.6476279453705316\n",
      "-0.7190795068326907\n"
     ]
    }
   ],
   "source": [
    "scoring(nnp1,nnp2)"
   ]
  },
  {
   "cell_type": "code",
   "execution_count": 9,
   "metadata": {},
   "outputs": [],
   "source": [
    "r=1/test_target"
   ]
  },
  {
   "cell_type": "code",
   "execution_count": 13,
   "metadata": {},
   "outputs": [
    {
     "data": {
      "image/png": "[encoded data removed]",
      "text/plain": [
       "<Figure size 1080x720 with 1 Axes>"
      ]
     },
     "metadata": {
      "needs_background": "light"
     },
     "output_type": "display_data"
    }
   ],
   "source": [
    "plt.figure(figsize=(15,10))\n",
    "plt.hist(r.clip(r.quantile(0.01),r.quantile(0.99)), bins='auto')\n",
    "plt.show()"
   ]
  },
  {
   "cell_type": "code",
   "execution_count": 17,
   "metadata": {},
   "outputs": [
    {
     "name": "stdout",
     "output_type": "stream",
     "text": [
      "-182.59514220049937 186.5416360133534\n"
     ]
    }
   ],
   "source": [
    "m,M = r.quantile(0.05), r.quantile(0.95)\n",
    "print(m,M)"
   ]
  },
  {
   "cell_type": "code",
   "execution_count": 21,
   "metadata": {},
   "outputs": [],
   "source": [
    "nnnp1,nnnp2=normalize_in_range(p1,m,M),normalize_in_range(p2,m,M)"
   ]
  },
  {
   "cell_type": "code",
   "execution_count": 22,
   "metadata": {},
   "outputs": [
    {
     "data": {
      "image/png": "[encoded data removed]",
      "text/plain": [
       "<Figure size 1080x360 with 2 Axes>"
      ]
     },
     "metadata": {
      "needs_background": "light"
     },
     "output_type": "display_data"
    },
    {
     "data": {
      "image/png": "[encoded data removed]",
      "text/plain": [
       "<Figure size 432x288 with 1 Axes>"
      ]
     },
     "metadata": {
      "needs_background": "light"
     },
     "output_type": "display_data"
    }
   ],
   "source": [
    "look(nnnp1,nnnp2)"
   ]
  },
  {
   "cell_type": "code",
   "execution_count": 25,
   "metadata": {},
   "outputs": [
    {
     "name": "stdout",
     "output_type": "stream",
     "text": [
      "0.2590464317706109\n",
      "0.5807359303402504\n",
      "0.05482110603317021\n",
      "-0.143758587545749\n",
      "-550997.6473910485\n",
      "-680302.7869691927\n"
     ]
    }
   ],
   "source": [
    "scoring(nnnp1,nnnp2)"
   ]
  },
  {
   "cell_type": "code",
   "execution_count": null,
   "metadata": {},
   "outputs": [],
   "source": []
  }
 ],
 "metadata": {
  "kernelspec": {
   "display_name": "Python 3",
   "language": "python",
   "name": "python3"
  },
  "language_info": {
   "codemirror_mode": {
    "name": "ipython",
    "version": 3
   },
   "file_extension": ".py",
   "mimetype": "text/x-python",
   "name": "python",
   "nbconvert_exporter": "python",
   "pygments_lexer": "ipython3",
   "version": "3.7.1"
  }
 },
 "nbformat": 4,
 "nbformat_minor": 2
}
