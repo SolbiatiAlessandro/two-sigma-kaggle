{
 "cells": [
  {
   "cell_type": "code",
   "execution_count": 16,
   "metadata": {},
   "outputs": [],
   "source": [
    "import pandas as pd\n",
    "import numpy as np\n",
    "from matplotlib import pyplot as plt"
   ]
  },
  {
   "cell_type": "code",
   "execution_count": 3,
   "metadata": {},
   "outputs": [
    {
     "name": "stdout",
     "output_type": "stream",
     "text": [
      "Preparing test data..\n"
     ]
    }
   ],
   "source": [
    "print(\"Preparing test data..\")\n",
    "market_test_df = pd.read_csv(\"../data/market_test_df.csv\").drop('Unnamed: 0', axis=1)\n",
    "test_target = market_test_df['returnsOpenNextMktres10']\n",
    "test_target = test_target.clip(test_target.quantile(0.001), test_target.quantile(0.999))\n",
    "test_time = market_test_df['time']\n",
    "market_test_df.drop(['returnsOpenNextMktres10'], axis=1, inplace=True)"
   ]
  },
  {
   "cell_type": "code",
   "execution_count": 5,
   "metadata": {},
   "outputs": [
    {
     "name": "stderr",
     "output_type": "stream",
     "text": [
      "/Users/alex/Desktop/Coding/AI/two-sigma-kaggle/env3/lib/python3.7/site-packages/lightgbm/__init__.py:46: UserWarning: Starting from version 2.2.1, the library file in distribution wheels for macOS is built by the Apple Clang (Xcode_8.3.1) compiler.\n",
      "This means that in case of installing LightGBM from PyPI via the ``pip install lightgbm`` command, you don't need to install the gcc compiler anymore.\n",
      "Instead of that, you need to install the OpenMP library, which is required for running LightGBM on the system with the Apple Clang compiler.\n",
      "You can install the OpenMP library by the following command: ``brew install libomp``.\n",
      "  \"You can install the OpenMP library by the following command: ``brew install libomp``.\", UserWarning)\n"
     ]
    }
   ],
   "source": [
    "import model_lgbm_71"
   ]
  },
  {
   "cell_type": "code",
   "execution_count": 6,
   "metadata": {},
   "outputs": [
    {
     "name": "stdout",
     "output_type": "stream",
     "text": [
      "\n",
      "init model DecisionTree.model_lgbm_71\n"
     ]
    }
   ],
   "source": [
    "m = model_lgbm_71.model('DecisionTree.model_lgbm_71')"
   ]
  },
  {
   "cell_type": "code",
   "execution_count": 7,
   "metadata": {},
   "outputs": [
    {
     "name": "stdout",
     "output_type": "stream",
     "text": [
      "[_load] models loaded succesfully\n"
     ]
    }
   ],
   "source": [
    "m._load()"
   ]
  },
  {
   "cell_type": "code",
   "execution_count": 14,
   "metadata": {},
   "outputs": [
    {
     "name": "stdout",
     "output_type": "stream",
     "text": [
      "Starting prediction for model DecisionTree.model_lgbm_71, Thu Jan  3 01:48:40 2019\n",
      "Starting features generation for model DecisionTree.model_lgbm_71, Thu Jan  3 01:48:40 2019\n",
      "['LGIH.O' 'LGND.O' 'LH.N' ... 'CVGW.O' 'TKC.N' 'TROX.N']\n",
      "total 2007 df\n",
      "Finished features generation for model DecisionTree.model_lgbm_71, TIME 84.08511996269226\n",
      "X_test shape (100000, 48)\n",
      "Finished prediction for model DecisionTree.model_lgbm_71, TIME 95.25767922401428\n"
     ]
    }
   ],
   "source": [
    "predictions = m.predict([market_test_df, None],verbose=True)"
   ]
  },
  {
   "cell_type": "code",
   "execution_count": 18,
   "metadata": {},
   "outputs": [
    {
     "data": {
      "image/png": "[encoded data removed]",
      "text/plain": [
       "<Figure size 432x288 with 1 Axes>"
      ]
     },
     "metadata": {
      "needs_background": "light"
     },
     "output_type": "display_data"
    }
   ],
   "source": [
    "plt.hist(predictions, bins='auto')\n",
    "plt.show()"
   ]
  },
  {
   "cell_type": "code",
   "execution_count": 21,
   "metadata": {},
   "outputs": [],
   "source": [
    "from sigma_score import sigma_score"
   ]
  },
  {
   "cell_type": "code",
   "execution_count": 24,
   "metadata": {},
   "outputs": [
    {
     "data": {
      "text/plain": [
       "0.08753397668985864"
      ]
     },
     "execution_count": 24,
     "metadata": {},
     "output_type": "execute_result"
    }
   ],
   "source": [
    "sigma_score(predictions, test_target, test_time)"
   ]
  },
  {
   "cell_type": "code",
   "execution_count": 28,
   "metadata": {},
   "outputs": [
    {
     "name": "stdout",
     "output_type": "stream",
     "text": [
      "Starting features generation for model DecisionTree.model_lgbm_71, Thu Jan  3 01:56:14 2019\n",
      "['LGIH.O' 'LGND.O' 'LH.N' ... 'CVGW.O' 'TKC.N' 'TROX.N']\n",
      "total 2007 df\n",
      "Finished features generation for model DecisionTree.model_lgbm_71, TIME 64.16728711128235\n"
     ]
    }
   ],
   "source": [
    "generated_features = m._generate_features(market_test_df, None,verbose=True)"
   ]
  },
  {
   "cell_type": "code",
   "execution_count": 51,
   "metadata": {},
   "outputs": [],
   "source": [
    "import pickle as pk\n",
    "_ref_models = pk.load(open(\"pickle/_ref_models.pkl\",\"rb\"))"
   ]
  },
  {
   "cell_type": "code",
   "execution_count": 56,
   "metadata": {},
   "outputs": [],
   "source": [
    "assert type(_ref_models[0]) == type(m.model1)"
   ]
  },
  {
   "cell_type": "code",
   "execution_count": 59,
   "metadata": {},
   "outputs": [
    {
     "data": {
      "text/plain": [
       "(100000, 48)"
      ]
     },
     "execution_count": 59,
     "metadata": {},
     "output_type": "execute_result"
    }
   ],
   "source": [
    "generated_features.shape"
   ]
  },
  {
   "cell_type": "code",
   "execution_count": 58,
   "metadata": {},
   "outputs": [
    {
     "data": {
      "image/png": "[encoded data removed]",
      "text/plain": [
       "<Figure size 432x288 with 1 Axes>"
      ]
     },
     "metadata": {
      "needs_background": "light"
     },
     "output_type": "display_data"
    }
   ],
   "source": [
    "_ref_m1 = _ref_models[0].predict(generated_features.values)\n",
    "plt.hist(_ref_m1, bins='auto')\n",
    "plt.show()"
   ]
  },
  {
   "cell_type": "code",
   "execution_count": 57,
   "metadata": {},
   "outputs": [
    {
     "data": {
      "image/png": "[encoded data removed]",
      "text/plain": [
       "<Figure size 432x288 with 1 Axes>"
      ]
     },
     "metadata": {
      "needs_background": "light"
     },
     "output_type": "display_data"
    }
   ],
   "source": [
    "m1 = m.model1.predict(generated_features.values)\n",
    "plt.hist(m1, bins='auto')\n",
    "plt.show()"
   ]
  },
  {
   "cell_type": "code",
   "execution_count": 89,
   "metadata": {},
   "outputs": [
    {
     "data": {
      "image/png": "[encoded data removed]",
      "text/plain": [
       "<Figure size 432x288 with 1 Axes>"
      ]
     },
     "metadata": {
      "needs_background": "light"
     },
     "output_type": "display_data"
    }
   ],
   "source": [
    "m2 = m.model2.predict(generated_features)\n",
    "plt.hist(m2, bins='auto')\n",
    "plt.show()"
   ]
  },
  {
   "cell_type": "code",
   "execution_count": 90,
   "metadata": {},
   "outputs": [
    {
     "data": {
      "image/png": "[encoded data removed]",
      "text/plain": [
       "<Figure size 432x288 with 1 Axes>"
      ]
     },
     "metadata": {
      "needs_background": "light"
     },
     "output_type": "display_data"
    }
   ],
   "source": [
    "m3 = m.model3.predict(generated_features)\n",
    "plt.hist(m3, bins='auto')\n",
    "plt.show()"
   ]
  },
  {
   "cell_type": "code",
   "execution_count": 91,
   "metadata": {},
   "outputs": [
    {
     "data": {
      "image/png": "[encoded data removed]",
      "text/plain": [
       "<Figure size 432x288 with 1 Axes>"
      ]
     },
     "metadata": {
      "needs_background": "light"
     },
     "output_type": "display_data"
    }
   ],
   "source": [
    "m4 = m.model4.predict(generated_features)\n",
    "plt.hist(m4, bins='auto')\n",
    "plt.show()"
   ]
  },
  {
   "cell_type": "code",
   "execution_count": 92,
   "metadata": {},
   "outputs": [
    {
     "data": {
      "image/png": "[encoded data removed]",
      "text/plain": [
       "<Figure size 432x288 with 1 Axes>"
      ]
     },
     "metadata": {
      "needs_background": "light"
     },
     "output_type": "display_data"
    }
   ],
   "source": [
    "m5 = m.model5.predict(generated_features)\n",
    "plt.hist(m5, bins='auto')\n",
    "plt.show()"
   ]
  },
  {
   "cell_type": "code",
   "execution_count": 93,
   "metadata": {},
   "outputs": [
    {
     "data": {
      "image/png": "[encoded data removed]",
      "text/plain": [
       "<Figure size 432x288 with 1 Axes>"
      ]
     },
     "metadata": {
      "needs_background": "light"
     },
     "output_type": "display_data"
    }
   ],
   "source": [
    "m6 = m.model6.predict(generated_features)\n",
    "plt.hist(m6, bins='auto')\n",
    "plt.show()"
   ]
  },
  {
   "cell_type": "code",
   "execution_count": 66,
   "metadata": {},
   "outputs": [],
   "source": [
    "gbm_1 = _ref_models[0]\n",
    "gbm_2 = _ref_models[1]\n",
    "gbm_3 = _ref_models[2]\n",
    "gbm_4 = _ref_models[3]\n",
    "gbm_5 = _ref_models[4]\n",
    "gbm_6 = _ref_models[5]"
   ]
  },
  {
   "cell_type": "code",
   "execution_count": 94,
   "metadata": {},
   "outputs": [],
   "source": [
    "gbm_1 = m.model1\n",
    "gbm_2 = m.model2\n",
    "gbm_3 = m.model3\n",
    "gbm_4 = m.model4\n",
    "gbm_5 = m.model5\n",
    "gbm_6 = m.model6"
   ]
  },
  {
   "cell_type": "code",
   "execution_count": 67,
   "metadata": {},
   "outputs": [],
   "source": [
    "X_test = generated_features"
   ]
  },
  {
   "cell_type": "code",
   "execution_count": 79,
   "metadata": {},
   "outputs": [],
   "source": [
    "r_test = test_target"
   ]
  },
  {
   "cell_type": "code",
   "execution_count": 81,
   "metadata": {},
   "outputs": [],
   "source": [
    "u_test = market_test_df['universe']"
   ]
  },
  {
   "cell_type": "code",
   "execution_count": 82,
   "metadata": {},
   "outputs": [],
   "source": [
    "d_test = test_time"
   ]
  },
  {
   "cell_type": "code",
   "execution_count": 95,
   "metadata": {},
   "outputs": [
    {
     "name": "stdout",
     "output_type": "stream",
     "text": [
      "1.0 -1.0\n",
      "0.0883407585068707\n"
     ]
    }
   ],
   "source": [
    "#实现零均值归一化操作\n",
    "confidence_test = (gbm_1.predict(X_test) + gbm_2.predict(X_test)+gbm_3.predict(X_test)+gbm_4.predict(X_test)+gbm_5.predict(X_test)+gbm_6.predict(X_test))/6\n",
    "confidence_test = (confidence_test-confidence_test.min())/(confidence_test.max()-confidence_test.min())\n",
    "#print(\"max_min\",max_min)\n",
    "#confidence_test=(confidence_test-confidence_test.mean())/(confidence_test.std())\n",
    "confidence_test = confidence_test*2-1\n",
    "print(max(confidence_test),min(confidence_test))\n",
    "\n",
    "# calculation of actual metric that is used to calculate final score\n",
    "r_test = r_test.clip(-1,1) # get rid of outliers. Where do they come from??\n",
    "x_t_i = confidence_test * r_test\n",
    "data = {'day' : d_test, 'x_t_i' : x_t_i}\n",
    "df = pd.DataFrame(data)\n",
    "x_t = df.groupby('day').sum().values.flatten()\n",
    "mean = np.mean(x_t)\n",
    "std = np.std(x_t)\n",
    "score_test = mean / std\n",
    "print(score_test)"
   ]
  },
  {
   "cell_type": "code",
   "execution_count": 87,
   "metadata": {},
   "outputs": [
    {
     "data": {
      "image/png": "[encoded data removed]",
      "text/plain": [
       "<Figure size 432x288 with 1 Axes>"
      ]
     },
     "metadata": {
      "needs_background": "light"
     },
     "output_type": "display_data"
    }
   ],
   "source": [
    "plt.hist(confidence_test,bins='auto')\n",
    "plt.show()"
   ]
  },
  {
   "cell_type": "code",
   "execution_count": null,
   "metadata": {},
   "outputs": [],
   "source": []
  }
 ],
 "metadata": {
  "kernelspec": {
   "display_name": "Python 3",
   "language": "python",
   "name": "python3"
  },
  "language_info": {
   "codemirror_mode": {
    "name": "ipython",
    "version": 3
   },
   "file_extension": ".py",
   "mimetype": "text/x-python",
   "name": "python",
   "nbconvert_exporter": "python",
   "pygments_lexer": "ipython3",
   "version": "3.7.1"
  }
 },
 "nbformat": 4,
 "nbformat_minor": 2
}
