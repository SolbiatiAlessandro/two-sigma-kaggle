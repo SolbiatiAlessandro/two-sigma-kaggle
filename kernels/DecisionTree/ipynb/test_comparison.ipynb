{
 "cells": [
  {
   "cell_type": "code",
   "execution_count": 3,
   "metadata": {},
   "outputs": [],
   "source": [
    "import sys;sys.path.append(\"../\")"
   ]
  },
  {
   "cell_type": "code",
   "execution_count": 4,
   "metadata": {},
   "outputs": [
    {
     "name": "stderr",
     "output_type": "stream",
     "text": [
      "/Users/alex/Desktop/Coding/AI/two-sigma-kaggle/env3/lib/python3.7/site-packages/lightgbm/__init__.py:46: UserWarning: Starting from version 2.2.1, the library file in distribution wheels for macOS is built by the Apple Clang (Xcode_8.3.1) compiler.\n",
      "This means that in case of installing LightGBM from PyPI via the ``pip install lightgbm`` command, you don't need to install the gcc compiler anymore.\n",
      "Instead of that, you need to install the OpenMP library, which is required for running LightGBM on the system with the Apple Clang compiler.\n",
      "You can install the OpenMP library by the following command: ``brew install libomp``.\n",
      "  \"You can install the OpenMP library by the following command: ``brew install libomp``.\", UserWarning)\n"
     ]
    }
   ],
   "source": [
    "import unittest\n",
    "import model_lgbm_71\n",
    "import pandas as pd\n",
    "import numpy as np\n",
    "import pickle as pk\n",
    "from datetime import datetime, date"
   ]
  },
  {
   "cell_type": "code",
   "execution_count": 6,
   "metadata": {},
   "outputs": [
    {
     "name": "stdout",
     "output_type": "stream",
     "text": [
      "[test_compare] loading ../../data/ market_train_df\n"
     ]
    }
   ],
   "source": [
    "print('[test_compare] loading ../../data/ market_train_df')\n",
    "market_train_df = pd.read_csv(\"../../data/market_train_df.csv\").drop('Unnamed: 0', axis=1)\n",
    "market_train_df['time'] = pd.to_datetime(market_train_df['time']).dt.date\n",
    "market_train_df = market_train_df.loc[market_train_df['time']>=date(2010, 1, 1)]"
   ]
  },
  {
   "cell_type": "code",
   "execution_count": 7,
   "metadata": {},
   "outputs": [
    {
     "name": "stdout",
     "output_type": "stream",
     "text": [
      "\n",
      "init model comparison\n",
      "Starting features generation for model comparison, Thu Jan  3 18:13:16 2019\n",
      "['A.N' 'AAI.N' 'AAP.N' ... 'HASI.N' 'NPTN.N' 'APFH.N']\n",
      "total 3274 df\n",
      "Finished features generation for model comparison, TIME 241.7338457107544\n"
     ]
    }
   ],
   "source": [
    "model = model_lgbm_71.model(\"comparison\")\n",
    "generated_features = model._generate_features(market_train_df, None, verbose=True)"
   ]
  },
  {
   "cell_type": "code",
   "execution_count": 12,
   "metadata": {},
   "outputs": [
    {
     "name": "stdout",
     "output_type": "stream",
     "text": [
      "[test_compare] reference loaded succefully\n"
     ]
    }
   ],
   "source": [
    "reference = pk.load(open(\"../pickle/_ref_market_train_df.pkl\",\"rb\"))\n",
    "print('[test_compare] reference loaded succefully')"
   ]
  },
  {
   "cell_type": "code",
   "execution_count": 15,
   "metadata": {},
   "outputs": [],
   "source": [
    "assert reference.shape == generated_features.shape"
   ]
  },
  {
   "cell_type": "code",
   "execution_count": 23,
   "metadata": {},
   "outputs": [],
   "source": [
    "reference_df = pd.DataFrame(reference)"
   ]
  },
  {
   "cell_type": "code",
   "execution_count": 39,
   "metadata": {},
   "outputs": [
    {
     "name": "stdout",
     "output_type": "stream",
     "text": [
      "[test_compare] row_index = 0\n",
      "[test_compare] row_index = 100000\n",
      "[test_compare] row_index = 200000\n",
      "[test_compare] row_index = 300000\n",
      "[test_compare] row_index = 400000\n",
      "[test_compare] row_index = 500000\n",
      "[test_compare] row_index = 600000\n",
      "[test_compare] row_index = 700000\n",
      "[test_compare] row_index = 800000\n",
      "[test_compare] row_index = 900000\n",
      "[test_compare] row_index = 1000000\n",
      "[test_compare] row_index = 1100000\n",
      "[test_compare] row_index = 1200000\n",
      "[test_compare] row_index = 1300000\n",
      "[test_compare] row_index = 1400000\n",
      "[test_compare] row_index = 1500000\n",
      "[test_compare] row_index = 1600000\n",
      "[test_compare] row_index = 1700000\n",
      "[test_compare] row_index = 1800000\n",
      "[test_compare] row_index = 1900000\n",
      "[test_compare] row_index = 2000000\n",
      "[test_compare] row_index = 2100000\n",
      "[test_compare] row_index = 2200000\n",
      "[test_compare] row_index = 2300000\n",
      "[test_compare] row_index = 2400000\n",
      "[test_compare] row_index = 2500000\n",
      "[test_compare] row_index = 2600000\n",
      "[test_compare] row_index = 2700000\n",
      "[test_compare] row_index = 2800000\n"
     ]
    }
   ],
   "source": [
    "for row_index in range(generated_features.shape[0]):\n",
    "    if row_index % 100000 == 0: print(\"[test_compare] row_index = \"+str(row_index))\n",
    "    for col_index in range(generated_features.shape[1]):\n",
    "        equal = generated_features.iloc[row_index, col_index] == reference_df.iloc[row_index, col_index] \n",
    "        if not equal:\n",
    "            print(\"NOT EQUAL ON\\ngenerated_features[{},{}] = {}\\refernece_df[{},{}] = {}\".format(\n",
    "                row_index,\n",
    "                col_index,\n",
    "                generated_features.iloc[row_index, col_index],\n",
    "                row_index,\n",
    "                col_index,\n",
    "                reference_df.iloc[row_index, col_index] \n",
    "            ))"
   ]
  },
  {
   "cell_type": "code",
   "execution_count": null,
   "metadata": {},
   "outputs": [],
   "source": []
  }
 ],
 "metadata": {
  "kernelspec": {
   "display_name": "Python 3",
   "language": "python",
   "name": "python3"
  },
  "language_info": {
   "codemirror_mode": {
    "name": "ipython",
    "version": 3
   },
   "file_extension": ".py",
   "mimetype": "text/x-python",
   "name": "python",
   "nbconvert_exporter": "python",
   "pygments_lexer": "ipython3",
   "version": "3.7.1"
  }
 },
 "nbformat": 4,
 "nbformat_minor": 2
}
