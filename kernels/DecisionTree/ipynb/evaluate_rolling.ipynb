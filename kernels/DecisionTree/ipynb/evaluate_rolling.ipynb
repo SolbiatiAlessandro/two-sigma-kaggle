{
 "cells": [
  {
   "cell_type": "code",
   "execution_count": 1,
   "metadata": {},
   "outputs": [],
   "source": [
    "#scores 0.704"
   ]
  },
  {
   "cell_type": "markdown",
   "metadata": {
    "_uuid": "fadffcaa4012badddbe0acd50c7b57b0f65843f2"
   },
   "source": [
    "<h1>PRIVATE EVALUATION WITH ROLLING PREDICTIONS"
   ]
  },
  {
   "cell_type": "code",
   "execution_count": 2,
   "metadata": {
    "_uuid": "2afca6b204da170ff55f3037a9f1bfda05c0a7c4"
   },
   "outputs": [],
   "source": [
    "from time import time, ctime\n",
    "import lightgbm as lgb\n",
    "import pandas as pd\n",
    "import numpy as np\n",
    "import pickle as pk\n",
    "from matplotlib import pyplot as plt\n",
    "from pathos.multiprocessing import ProcessingPool as Pool\n",
    "from datetime import datetime, date\n",
    "import shap\n",
    "import sys\n",
    "import os\n",
    "import sys;sys.path.append('../')\n",
    "from model_lgbm_71 import model"
   ]
  },
  {
   "cell_type": "markdown",
   "metadata": {
    "_uuid": "83cc460d930508a9445170726057d4ef07c254c9"
   },
   "source": [
    "<h1>Get data"
   ]
  },
  {
   "cell_type": "code",
   "execution_count": 15,
   "metadata": {},
   "outputs": [],
   "source": [
    "PREDICTIONS_FOLDER = '../../predictions'\n",
    "DATA_FOLDER = '../../data'\n",
    "MODEL_NAME = 'lgbm_71_leak'"
   ]
  },
  {
   "cell_type": "code",
   "execution_count": null,
   "metadata": {},
   "outputs": [],
   "source": [
    "def evaluate_rolling(model, MODEL_NAME, DATA_FOLDER, PREDICTIONS_FOLDER, fold=None):\n",
    "    \"\"\"\n",
    "    simulate kernel rolling predictions to validatiate on private dataset\n",
    "    Args:\n",
    "        model: class model (from model_lgbm_71 import model)\n",
    "        MODEL_NAME: 'lgbm_71_leak'\n",
    "        DATA_FOLDER = \"../../data\"\n",
    "        PREDICTIONS_FOLDER = \"../../predictions\"\n",
    "    \n",
    "    save in PREDICTIONS_FOLDER+\"rolling_\"+MODEL_NAME a .pkl file with predictions\n",
    "    \"\"\"\n",
    "    \n",
    "    import os\n",
    "    try:\n",
    "        os.path.isdir(DATA_FOLDER)\n",
    "    except: exit(\"DATA_FOLDER not valid\")\n",
    "    try:\n",
    "        os.path.isdir(PREDICTIONS_FOLDER)\n",
    "    except: exit(\"DATA_FOLDER not valid\")\n",
    "    SAVE_PATH = os.path.join(PREDICTIONS_FOLDER,\"rolling_\"+MODEL_NAME+\".pkl\")\n",
    "    print(\"[evaluate_rolling] SAVE_PATH = \"+SAVE_PATH)\n",
    "    if os.path.isfile(SAVE_PATH):\n",
    "        print(\"[evalute_rolling] overwriting exsisting predictions at '\"+SAVE_PATH+\"' , Continue? y/n\")\n",
    "        got = raw_input()\n",
    "        if got == 'n': exit(\"Quitting\")\n",
    "            \n",
    "    market_train_df = pd.read_csv(os.path.join(DATA_FOLDER,'market_train_df.csv')).drop('Unnamed: 0', axis=1)\n",
    "    market_test_df = pd.read_csv(os.path.join(DATA_FOLDER,'market_test_df.csv')).drop('Unnamed: 0', axis=1)\n",
    "    market_train_df = market_train_df.loc[market_train_df['time'] >= '2010-01-01 22:00:00+0000']\n",
    "    \n",
    "    #initialize and train model\n",
    "    model = model(MODEL_NAME)\n",
    "    target = market_train_df.returnsOpenNextMktres10\n",
    "    market_train_df.drop('returnsOpenNextMktres10', axis=1, inplace=True)\n",
    "    model.train([market_train_df, news_train_df], target, verbose=True)\n",
    "    max_values, min_values, max_lag = model.maxs, model.mins, model.max_lag # values used for normalization during predictions\n",
    "    model.inspect(None)\n",
    "    \n",
    "    #prediction loop\n",
    "    PREDICTIONS = []\n",
    "    days = []\n",
    "    for date in market_test_df['time'].unique():\n",
    "        market_obs_df = market_test_df[market_test_df['time'] == date].drop(['returnsOpenNextMktres10','universe'],axis=1)\n",
    "        predictions_template_df = pd.DataFrame({'assetCode':market_test_df[market_test_df['time'] == date]['assetCode'],\n",
    "                                                'confidenceValue':0.0})\n",
    "        days.append([market_obs_df,None,predictions_template_df])\n",
    "    \n",
    "    \"\"\"locals required\n",
    "    model: instance of model class defined above\n",
    "    max_values, min_values: (pd.DataFrame)\n",
    "    max_lag: (int)\n",
    "    \"\"\"\n",
    "    from time import time\n",
    "    n_days, prep_time, prediction_time, packaging_time = 0, 0, 0, 0\n",
    "    total_market_obs_df = []\n",
    "    for (market_obs_df, news_obs_df, predictions_template_df) in days:\n",
    "        n_days +=1\n",
    "        if (n_days%50==0): print(n_days,end=' ')\n",
    "        t = time()\n",
    "        market_obs_df['time'] = market_obs_df['time'].dt.date\n",
    "\n",
    "        total_market_obs_df.append(market_obs_df)\n",
    "        if len(total_market_obs_df) == 1:\n",
    "            history_df = total_market_obs_df[0]\n",
    "        else:\n",
    "            history_df = pd.concat(total_market_obs_df[-(max_lag + 1):])\n",
    "\n",
    "        confidence = model.predict_rolling([history_df, None], market_obs_df, verbose=True, normalize=True, normalize_vals = [max_values, min_values])      \n",
    "\n",
    "        preds = pd.DataFrame({'assetCode':market_obs_df['assetCode'],'confidence':confidence})\n",
    "        predictions_template_df = predictions_template_df.merge(preds,how='left').drop('confidenceValue',axis=1).fillna(0).rename(columns={'confidence':'confidenceValue'})\n",
    "        PREDICTIONS.append(predictions_template_df)\n",
    "        packaging_time += time() - t\n",
    "        \n",
    "    import pickle as pk\n",
    "    pk.dump(PREDICTIONS, open(os.path.join(PREDICTIONS_FOLDER, \"rolling_\"+MODEL_NAME), \"wb\"))\n",
    "    print(\"[evaluate_rolling] PREDICTIONS SAVED SUCCESFULLY IN\"+os.path.join(PREDICTIONS_FOLDER, \"rolling_\"+MODEL_NAME))"
   ]
  },
  {
   "cell_type": "markdown",
   "metadata": {
    "_uuid": "33a05f3a4f3d6e20ca59fc49e4c2c3b3029254bd"
   },
   "source": [
    "<h1>Prediction loop"
   ]
  }
 ],
 "metadata": {
  "kernelspec": {
   "display_name": "Python 3",
   "language": "python",
   "name": "python3"
  },
  "language_info": {
   "codemirror_mode": {
    "name": "ipython",
    "version": 3
   },
   "file_extension": ".py",
   "mimetype": "text/x-python",
   "name": "python",
   "nbconvert_exporter": "python",
   "pygments_lexer": "ipython3",
   "version": "3.7.1"
  }
 },
 "nbformat": 4,
 "nbformat_minor": 1
}
