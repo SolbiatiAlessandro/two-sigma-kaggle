{
 "cells": [
  {
   "cell_type": "markdown",
   "metadata": {},
   "source": [
    "<h1>Notes on Sharpe Ratio"
   ]
  },
  {
   "cell_type": "markdown",
   "metadata": {},
   "source": [
    "In finance, the Sharpe ratio (also known as the Sharpe index, the Sharpe measure, and the reward-to-variability ratio) is a way to examine the performance of an investment by adjusting for its risk. The ratio measures the excess return (or risk premium) per unit of deviation in an investment asset or a trading strategy, typically referred to as risk, named after William F. Sharpe.[1]"
   ]
  },
  {
   "cell_type": "markdown",
   "metadata": {},
   "source": [
    "Sharpe's 1994 revision acknowledged that the basis of comparison should be an applicable benchmark, which changes with time. After this revision, the definition is:\n",
    "\n",
    "$${\\displaystyle S={\\frac {E[R-R_{b}]}{\\sqrt {\\mathrm {var} [R-R_{b}]}}}}$$"
   ]
  },
  {
   "cell_type": "markdown",
   "metadata": {},
   "source": [
    "<h2>Example"
   ]
  },
  {
   "cell_type": "code",
   "execution_count": 50,
   "metadata": {},
   "outputs": [],
   "source": [
    "import pickle as pk\n",
    "import pandas as pd\n",
    "import pandas_datareader.data as web\n",
    "import numpy as np\n",
    "from matplotlib import pyplot as plt"
   ]
  },
  {
   "cell_type": "code",
   "execution_count": 8,
   "metadata": {},
   "outputs": [],
   "source": [
    "import datetime\n",
    "start = datetime.datetime(2018, 10, 1)\n",
    "end = datetime.datetime(2018, 10, 15)"
   ]
  },
  {
   "cell_type": "code",
   "execution_count": 21,
   "metadata": {},
   "outputs": [],
   "source": [
    "try:\n",
    "    apple = web.DataReader('AAPL', 'yahoo', start, end)\n",
    "    SP500 = web.DataReader('^GSPC','yahoo',start,end)\n",
    "except:\n",
    "    print(\"[NOTEBOOK] couldnt load data from yahoo.. loading locals\")\n",
    "    temp = pk.load(open(\"apple_sp500.pkl\",\"rb\"))\n",
    "    apple, SP500 = temp['apple'], temp['SP500']"
   ]
  },
  {
   "cell_type": "code",
   "execution_count": 33,
   "metadata": {},
   "outputs": [],
   "source": [
    "returns = lambda x: (x.Close - x.Open) / x.Open\n",
    "apple['returns'], SP500['returns']  = returns(apple), returns(SP500)"
   ]
  },
  {
   "cell_type": "markdown",
   "metadata": {},
   "source": [
    "For an example of calculating the more commonly used ex-post Sharpe ratio - which uses realized rather than expected returns - based on the contemporary definition, consider the following table of daily returns."
   ]
  },
  {
   "cell_type": "code",
   "execution_count": 40,
   "metadata": {},
   "outputs": [
    {
     "data": {
      "text/html": [
       "<div>\n",
       "<style scoped>\n",
       "    .dataframe tbody tr th:only-of-type {\n",
       "        vertical-align: middle;\n",
       "    }\n",
       "\n",
       "    .dataframe tbody tr th {\n",
       "        vertical-align: top;\n",
       "    }\n",
       "\n",
       "    .dataframe thead th {\n",
       "        text-align: right;\n",
       "    }\n",
       "</style>\n",
       "<table border=\"1\" class=\"dataframe\">\n",
       "  <thead>\n",
       "    <tr style=\"text-align: right;\">\n",
       "      <th></th>\n",
       "      <th>asset_returns</th>\n",
       "      <th>benchmark_returns</th>\n",
       "      <th>excess_return</th>\n",
       "    </tr>\n",
       "    <tr>\n",
       "      <th>Date</th>\n",
       "      <th></th>\n",
       "      <th></th>\n",
       "      <th></th>\n",
       "    </tr>\n",
       "  </thead>\n",
       "  <tbody>\n",
       "    <tr>\n",
       "      <th>2018-10-01</th>\n",
       "      <td>-0.003027</td>\n",
       "      <td>-0.000581</td>\n",
       "      <td>-0.002446</td>\n",
       "    </tr>\n",
       "    <tr>\n",
       "      <th>2018-10-02</th>\n",
       "      <td>0.008933</td>\n",
       "      <td>-0.000127</td>\n",
       "      <td>0.009059</td>\n",
       "    </tr>\n",
       "    <tr>\n",
       "      <th>2018-10-03</th>\n",
       "      <td>0.008781</td>\n",
       "      <td>-0.002108</td>\n",
       "      <td>0.010889</td>\n",
       "    </tr>\n",
       "    <tr>\n",
       "      <th>2018-10-04</th>\n",
       "      <td>-0.012089</td>\n",
       "      <td>-0.006077</td>\n",
       "      <td>-0.006013</td>\n",
       "    </tr>\n",
       "    <tr>\n",
       "      <th>2018-10-05</th>\n",
       "      <td>-0.016099</td>\n",
       "      <td>-0.005847</td>\n",
       "      <td>-0.010253</td>\n",
       "    </tr>\n",
       "    <tr>\n",
       "      <th>2018-10-08</th>\n",
       "      <td>0.007020</td>\n",
       "      <td>0.002398</td>\n",
       "      <td>0.004623</td>\n",
       "    </tr>\n",
       "    <tr>\n",
       "      <th>2018-10-09</th>\n",
       "      <td>0.014443</td>\n",
       "      <td>-0.000753</td>\n",
       "      <td>0.015196</td>\n",
       "    </tr>\n",
       "    <tr>\n",
       "      <th>2018-10-10</th>\n",
       "      <td>-0.040362</td>\n",
       "      <td>-0.030697</td>\n",
       "      <td>-0.009665</td>\n",
       "    </tr>\n",
       "    <tr>\n",
       "      <th>2018-10-11</th>\n",
       "      <td>-0.000326</td>\n",
       "      <td>-0.017466</td>\n",
       "      <td>0.017139</td>\n",
       "    </tr>\n",
       "    <tr>\n",
       "      <th>2018-10-12</th>\n",
       "      <td>0.007667</td>\n",
       "      <td>-0.001231</td>\n",
       "      <td>0.008898</td>\n",
       "    </tr>\n",
       "    <tr>\n",
       "      <th>2018-10-15</th>\n",
       "      <td>-0.017182</td>\n",
       "      <td>-0.004718</td>\n",
       "      <td>-0.012464</td>\n",
       "    </tr>\n",
       "  </tbody>\n",
       "</table>\n",
       "</div>"
      ],
      "text/plain": [
       "            asset_returns  benchmark_returns  excess_return\n",
       "Date                                                       \n",
       "2018-10-01      -0.003027          -0.000581      -0.002446\n",
       "2018-10-02       0.008933          -0.000127       0.009059\n",
       "2018-10-03       0.008781          -0.002108       0.010889\n",
       "2018-10-04      -0.012089          -0.006077      -0.006013\n",
       "2018-10-05      -0.016099          -0.005847      -0.010253\n",
       "2018-10-08       0.007020           0.002398       0.004623\n",
       "2018-10-09       0.014443          -0.000753       0.015196\n",
       "2018-10-10      -0.040362          -0.030697      -0.009665\n",
       "2018-10-11      -0.000326          -0.017466       0.017139\n",
       "2018-10-12       0.007667          -0.001231       0.008898\n",
       "2018-10-15      -0.017182          -0.004718      -0.012464"
      ]
     },
     "execution_count": 40,
     "metadata": {},
     "output_type": "execute_result"
    }
   ],
   "source": [
    "example_df = pd.DataFrame({'asset_returns':returns(apple),'benchmark_returns':returns(SP500),'excess_return':returns(apple) - returns(SP500)})\n",
    "example_df"
   ]
  },
  {
   "cell_type": "markdown",
   "metadata": {},
   "source": [
    "We assume that the asset is something like a large-cap U.S. equity fund which would logically be benchmarked against the S&P 500. The mean of the excess returns is 0.00226 and the (sample) standard deviation is 0.01079, so the Sharpe ratio is 0.00226/0.01079, or 0.2102\""
   ]
  },
  {
   "cell_type": "code",
   "execution_count": 46,
   "metadata": {},
   "outputs": [
    {
     "data": {
      "text/plain": [
       "(0.0022693754426122733, 0.010794511974811051)"
      ]
     },
     "execution_count": 46,
     "metadata": {},
     "output_type": "execute_result"
    }
   ],
   "source": [
    "np.mean(example_df.excess_return), np.std(example_df.excess_return,ddof=1)"
   ]
  },
  {
   "cell_type": "code",
   "execution_count": 47,
   "metadata": {},
   "outputs": [
    {
     "data": {
      "text/plain": [
       "0.21023418640026076"
      ]
     },
     "execution_count": 47,
     "metadata": {},
     "output_type": "execute_result"
    }
   ],
   "source": [
    "sharpe_ratio = np.mean(example_df.excess_return) / np.std(example_df.excess_return,ddof=1)\n",
    "sharpe_ratio"
   ]
  },
  {
   "cell_type": "markdown",
   "metadata": {},
   "source": [
    "the strategy analyized is daily returns, that is buy at open and sell at close, let's examine it"
   ]
  },
  {
   "cell_type": "code",
   "execution_count": 82,
   "metadata": {},
   "outputs": [
    {
     "data": {
      "text/plain": [
       "Text(0.5, 1.0, 'excess returns')"
      ]
     },
     "execution_count": 82,
     "metadata": {},
     "output_type": "execute_result"
    },
    {
     "data": {
      "image/png": "[encoded data removed]",
      "text/plain": [
       "<Figure size 1080x360 with 2 Axes>"
      ]
     },
     "metadata": {
      "needs_background": "light"
     },
     "output_type": "display_data"
    },
    {
     "data": {
      "image/png": "[encoded data removed]",
      "text/plain": [
       "<Figure size 504x360 with 1 Axes>"
      ]
     },
     "metadata": {
      "needs_background": "light"
     },
     "output_type": "display_data"
    }
   ],
   "source": [
    "plt.figure(figsize=(15,5))\n",
    "plt.subplot(1,2,1)\n",
    "plt.bar(range(len(example_df.asset_returns)), example_df.asset_returns)\n",
    "plt.ylim(-0.04,0.02)\n",
    "plt.title(\"asset returns\")\n",
    "plt.subplot(1,2,2)\n",
    "plt.bar(range(len(example_df.benchmark_returns)), example_df.benchmark_returns)\n",
    "plt.ylim(-0.04,0.02)\n",
    "plt.title(\"benchmark returns\")\n",
    "plt.figure(figsize=(7,5))\n",
    "plt.bar(range(len(example_df.excess_return)), example_df.excess_return)\n",
    "plt.ylim(-0.04,0.02)\n",
    "plt.title(\"excess returns\")"
   ]
  },
  {
   "cell_type": "code",
   "execution_count": null,
   "metadata": {},
   "outputs": [],
   "source": []
  }
 ],
 "metadata": {
  "kernelspec": {
   "display_name": "Python 3",
   "language": "python",
   "name": "python3"
  },
  "language_info": {
   "codemirror_mode": {
    "name": "ipython",
    "version": 3
   },
   "file_extension": ".py",
   "mimetype": "text/x-python",
   "name": "python",
   "nbconvert_exporter": "python",
   "pygments_lexer": "ipython3",
   "version": "3.7.1"
  }
 },
 "nbformat": 4,
 "nbformat_minor": 2
}
