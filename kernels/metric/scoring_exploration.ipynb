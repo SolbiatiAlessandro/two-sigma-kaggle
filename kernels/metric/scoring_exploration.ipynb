{
 "cells": [
  {
   "cell_type": "markdown",
   "metadata": {},
   "source": [
    "<h1>Notes on Sharpe Ratio"
   ]
  },
  {
   "cell_type": "markdown",
   "metadata": {},
   "source": [
    "In finance, the Sharpe ratio (also known as the Sharpe index, the Sharpe measure, and the reward-to-variability ratio) is a way to examine the performance of an investment by adjusting for its risk. The ratio measures the excess return (or risk premium) per unit of deviation in an investment asset or a trading strategy, typically referred to as risk, named after William F. Sharpe.[1]"
   ]
  },
  {
   "cell_type": "markdown",
   "metadata": {},
   "source": [
    "Sharpe's 1994 revision acknowledged that the basis of comparison should be an applicable benchmark, which changes with time. After this revision, the definition is:\n",
    "\n",
    "$${\\displaystyle S={\\frac {E[R-R_{b}]}{\\sqrt {\\mathrm {var} [R-R_{b}]}}}}$$"
   ]
  },
  {
   "cell_type": "markdown",
   "metadata": {},
   "source": [
    "<h2>Example"
   ]
  },
  {
   "cell_type": "code",
   "execution_count": 50,
   "metadata": {},
   "outputs": [],
   "source": [
    "import pickle as pk\n",
    "import pandas as pd\n",
    "import pandas_datareader.data as web\n",
    "import numpy as np\n",
    "from matplotlib import pyplot as plt"
   ]
  },
  {
   "cell_type": "code",
   "execution_count": 90,
   "metadata": {},
   "outputs": [],
   "source": [
    "import datetime\n",
    "start = datetime.datetime(2017, 10, 1)\n",
    "end = datetime.datetime(2017, 12, 15)"
   ]
  },
  {
   "cell_type": "code",
   "execution_count": 98,
   "metadata": {},
   "outputs": [],
   "source": [
    "try:\n",
    "    apple = web.DataReader('GOOGL', 'yahoo', start, end)\n",
    "    SP500 = web.DataReader('^GSPC','yahoo',start,end)\n",
    "except:\n",
    "    print(\"[NOTEBOOK] couldnt load data from yahoo.. loading locals\")\n",
    "    temp = pk.load(open(\"apple_sp500.pkl\",\"rb\"))\n",
    "    apple, SP500 = temp['apple'], temp['SP500']"
   ]
  },
  {
   "cell_type": "code",
   "execution_count": 99,
   "metadata": {},
   "outputs": [],
   "source": [
    "returns = lambda x: (x.Close - x.Open) / x.Open\n",
    "apple['returns'], SP500['returns']  = returns(apple), returns(SP500)"
   ]
  },
  {
   "cell_type": "markdown",
   "metadata": {},
   "source": [
    "For an example of calculating the more commonly used ex-post Sharpe ratio - which uses realized rather than expected returns - based on the contemporary definition, consider the following table of daily returns."
   ]
  },
  {
   "cell_type": "code",
   "execution_count": 100,
   "metadata": {},
   "outputs": [
    {
     "data": {
      "text/plain": [
       "(54, 3)"
      ]
     },
     "execution_count": 100,
     "metadata": {},
     "output_type": "execute_result"
    }
   ],
   "source": [
    "example_df = pd.DataFrame({'asset_returns':returns(apple),'benchmark_returns':returns(SP500),'excess_return':returns(apple) - returns(SP500)})\n",
    "example_df.shape"
   ]
  },
  {
   "cell_type": "markdown",
   "metadata": {},
   "source": [
    "We assume that the asset is something like a large-cap U.S. equity fund which would logically be benchmarked against the S&P 500. The mean of the excess returns is 0.00226 and the (sample) standard deviation is 0.01079, so the Sharpe ratio is 0.00226/0.01079, or 0.2102\""
   ]
  },
  {
   "cell_type": "code",
   "execution_count": 101,
   "metadata": {},
   "outputs": [
    {
     "data": {
      "text/plain": [
       "(0.00019446525334508626, 0.0075748364608381365)"
      ]
     },
     "execution_count": 101,
     "metadata": {},
     "output_type": "execute_result"
    }
   ],
   "source": [
    "np.mean(example_df.excess_return), np.std(example_df.excess_return,ddof=1)"
   ]
  },
  {
   "cell_type": "code",
   "execution_count": 102,
   "metadata": {},
   "outputs": [
    {
     "data": {
      "text/plain": [
       "0.0256725348923994"
      ]
     },
     "execution_count": 102,
     "metadata": {},
     "output_type": "execute_result"
    }
   ],
   "source": [
    "sharpe_ratio = np.mean(example_df.excess_return) / np.std(example_df.excess_return,ddof=1)\n",
    "sharpe_ratio"
   ]
  },
  {
   "cell_type": "markdown",
   "metadata": {},
   "source": [
    "the strategy analyized is daily returns, that is buy at open and sell at close, let's examine it"
   ]
  },
  {
   "cell_type": "code",
   "execution_count": 103,
   "metadata": {},
   "outputs": [
    {
     "data": {
      "text/plain": [
       "Text(0.5, 1.0, 'excess returns')"
      ]
     },
     "execution_count": 103,
     "metadata": {},
     "output_type": "execute_result"
    },
    {
     "data": {
      "image/png": "[encoded data removed]",
      "text/plain": [
       "<Figure size 1080x360 with 2 Axes>"
      ]
     },
     "metadata": {
      "needs_background": "light"
     },
     "output_type": "display_data"
    },
    {
     "data": {
      "image/png": "[encoded data removed]",
      "text/plain": [
       "<Figure size 504x360 with 1 Axes>"
      ]
     },
     "metadata": {
      "needs_background": "light"
     },
     "output_type": "display_data"
    }
   ],
   "source": [
    "plt.figure(figsize=(15,5))\n",
    "plt.subplot(1,2,1)\n",
    "plt.bar(range(len(example_df.asset_returns)), example_df.asset_returns)\n",
    "plt.ylim(-0.04,0.04)\n",
    "plt.title(\"asset returns\")\n",
    "plt.subplot(1,2,2)\n",
    "plt.bar(range(len(example_df.benchmark_returns)), example_df.benchmark_returns)\n",
    "plt.ylim(-0.04,0.04)\n",
    "plt.title(\"benchmark returns\")\n",
    "plt.figure(figsize=(7,5))\n",
    "plt.bar(range(len(example_df.excess_return)), example_df.excess_return)\n",
    "plt.ylim(-0.04,0.04)\n",
    "plt.title(\"excess returns\")"
   ]
  },
  {
   "cell_type": "markdown",
   "metadata": {},
   "source": [
    "<h1>Explore competition evaluation metric</h1>"
   ]
  },
  {
   "cell_type": "markdown",
   "metadata": {},
   "source": [
    "In this competition, you must predict a signed confidence value, ŷ ti∈[−1,1] , which is multiplied by the market-adjusted return of a given assetCode over a ten day window. If you expect a stock to have a large positive return--compared to the broad market--over the next ten days, you might assign it a large, positive confidenceValue (near 1.0). If you expect a stock to have a negative return, you might assign it a large, negative confidenceValue (near -1.0). If unsure, you might assign it a value near zero.\n",
    "\n",
    "For each day in the evaluation time period, we calculate:"
   ]
  },
  {
   "cell_type": "markdown",
   "metadata": {},
   "source": [
    "$$xt=∑iŷ tirtiuti$$"
   ]
  },
  {
   "cell_type": "markdown",
   "metadata": {},
   "source": [
    "\n",
    "where rti is the 10-day market-adjusted leading return for day t for instrument i, and uti is a 0/1 universe variable (see the data description for details) that controls whether a particular asset is included in scoring on a particular day.\n",
    "\n",
    "Your submission score is then calculated as the mean divided by the standard deviation of your daily xt values:\n",
    "score=x¯tσ(xt).\n",
    "If the standard deviation of predictions is 0, the score is defined as 0."
   ]
  },
  {
   "cell_type": "code",
   "execution_count": null,
   "metadata": {},
   "outputs": [],
   "source": []
  }
 ],
 "metadata": {
  "kernelspec": {
   "display_name": "Python 3",
   "language": "python",
   "name": "python3"
  },
  "language_info": {
   "codemirror_mode": {
    "name": "ipython",
    "version": 3
   },
   "file_extension": ".py",
   "mimetype": "text/x-python",
   "name": "python",
   "nbconvert_exporter": "python",
   "pygments_lexer": "ipython3",
   "version": "3.7.1"
  }
 },
 "nbformat": 4,
 "nbformat_minor": 2
}
