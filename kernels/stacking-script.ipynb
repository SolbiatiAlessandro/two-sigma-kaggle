{
 "cells": [
  {
   "cell_type": "code",
   "execution_count": null,
   "metadata": {
    "_cell_guid": "b1076dfc-b9ad-4769-8c92-a6c4dae69d19",
    "_uuid": "8f2839f25d086af736a60e9eeb907d3b93b6e0e5"
   },
   "outputs": [],
   "source": [
    "from kaggle.competitions import twosigmanews\n",
    "# You can only call make_env() once, so don't lose it!\n",
    "env = twosigmanews.make_env()"
   ]
  },
  {
   "cell_type": "code",
   "execution_count": null,
   "metadata": {
    "_uuid": "c20fa6deeac9d374c98774abd90bdc76b023ee63"
   },
   "outputs": [],
   "source": [
    "(market_train_df, news_train_df) = env.get_training_data()\n",
    "\n",
    "#this is a constant needed for stacking (not hyperparameter)\n",
    "market_train_df = market_train_df.loc[market_train_df['time'] >= '2010-01-01 22:00:00+0000']"
   ]
  },
  {
   "cell_type": "markdown",
   "metadata": {
    "_uuid": "3ef1af5a9fc2bdc1ebde967994b9bb68f4745353"
   },
   "source": [
    "<h1>Basic data cleaning"
   ]
  },
  {
   "cell_type": "code",
   "execution_count": 3,
   "metadata": {
    "_uuid": "ddaf2b1ae8836ff0d9e3474a2f974d5f4c70b570"
   },
   "outputs": [],
   "source": [
    "import numpy as np\n",
    "import pandas as pd\n",
    "#from tqdm import tqdm_notebook as tqdm\n",
    "from time import time\n",
    "#from matplotlib import pyplot as plt"
   ]
  },
  {
   "cell_type": "code",
   "execution_count": 18,
   "metadata": {},
   "outputs": [],
   "source": [
    "from StringIO import StringIO"
   ]
  },
  {
   "cell_type": "code",
   "execution_count": 19,
   "metadata": {},
   "outputs": [],
   "source": [
    "h=StringIO(\"\"\"',time,assetCode,assetName,volume,close,open,returnsClosePrevRaw1,returnsOpenPrevRaw1,returnsClosePrevMktres1,returnsOpenPrevMktres1,returnsClosePrevRaw10,returnsOpenPrevRaw10,returnsClosePrevMktres10,returnsOpenPrevMktres10,returnsOpenNextMktres10,universe\\n1126217,2010-01-04 22:00:00+00:00,A.N,Agilent Technologies Inc,2729240.0,31.3,31.39,0.007402639201802952,0.011275773195873029,-0.0023437029039039773,0.010532228852100629,0.06317934782608936,0.06587436332767194,0.027269592381124926,0.06009231917386074,-0.040196846038035944,1.0\\n1126218,2010-01-04 22:00:00+00:00,AAI.N,AirTran Holdings Inc,3436803.0,5.18,5.26,-0.007662835249042099,0.011538461538461497,-0.027851042066156708,0.021130641959079773,0.005825242718446422,0.005736137667303964,0.08355775694246992,0.03017750557429531,0.06125265695209382,0.0\\n1126219,2010-01-04 22:00:00+00:00,AAP.N,Advance Auto Parts Inc,1701655.0,40.38,40.7,-0.0024703557312254487,-0.009973242520068482,-0.012789111603922616,-0.008616765940437202,-0.008377817529279019,0.0026768764797466815,-0.0217879114560604,-0.0010338609902458464,-0.03412597268689382,1.0\\n1126220,2010-01-04 22:00:00+00:00,AAPL.O,Apple Inc,17633150.0,214.01,213.5,0.015555302469489662,0.0018300408239853017,-0.0013293217047078594,0.009181640302293733,0.11544876472427745,0.09560219633601652,0.011769112745131247,0.06708613524655585,-0.03582750494004208,1.0\\n1126221,2010-01-04 22:00:00+00:00,AAV.N,Advantage Oil & Gas Ltd,833228.0,6.83,6.61,0.04754601226993871,-0.003016591251885359,0.028141249330657255,-0.0006611631351533314,0.05727554179566563,0.03767660910518056,0.002492374061736108,0.01198910323360472,0.005125413526593476,0.0\\n1126222,2010-01-04 22:00:00+00:00,AAWW.O,Atlas Air Worldwide Holdings Inc,607417.0,38.2,37.82,0.025503355704697972,0.007995735607675858,0.022891816013946083,-0.0005192480928454188,0.027710519235943032,0.028276237085372413,0.08467565935012888,0.04448254462034561,0.045759341886862426,0.0\\n1126223,2010-01-04 22:00:00+00:00,AB.N,AllianceBernstein Holding LP,556791.0,28.4,28.51,0.010676156583624863,0.011710432931155701,-0.007549100742243985,0.014918861557563005,0.08979278587873663,0.06380597014925571,0.017159687788576045,0.05117530070714556,0.014543055530893068,1.0\\n1126224,2010-01-04 22:00:00+00:00,ABB.N,ABB Ltd,1847102.0,19.64,19.59,0.028272251308903318,0.015552099533437058,0.008189690330353348,0.02037003779861471,0.08269018743109213,0.07049180327869231,-0.022457902390133858,0.04128849051754045,-0.05344358487171035,1.0\\n1126225,2010-01-04 22:00:00+00:00,ABC.N,AmerisourceBergen Corp,2455833.0,26.63,26.29,0.021480629075565805,-0.0037893141341412973,0.007690742559164502,0.0019827365220369507,0.029775715390566226,0.006893910379163426,-0.011077076597308319,-0.007055307926889116,0.03353088338610885,1.0\\n1126226,2010-01-04 22:00:00+00:00,ABD.N,ACCO Brands Corp,389300.0,7.9,7.49,0.08516483516483464,-0.006631299734748186,0.0453725499345708,-0.004467637426902099,0.07191316146540006,0.002677376171351886,0.07958208991202102,0.010347732398656287,0.06283915783793581,0.0\\n'\"\"\")"
   ]
  },
  {
   "cell_type": "code",
   "execution_count": 20,
   "metadata": {},
   "outputs": [
    {
     "data": {
      "text/html": [
       "<div>\n",
       "<style scoped>\n",
       "    .dataframe tbody tr th:only-of-type {\n",
       "        vertical-align: middle;\n",
       "    }\n",
       "\n",
       "    .dataframe tbody tr th {\n",
       "        vertical-align: top;\n",
       "    }\n",
       "\n",
       "    .dataframe thead th {\n",
       "        text-align: right;\n",
       "    }\n",
       "</style>\n",
       "<table border=\"1\" class=\"dataframe\">\n",
       "  <thead>\n",
       "    <tr style=\"text-align: right;\">\n",
       "      <th></th>\n",
       "      <th>'</th>\n",
       "      <th>time</th>\n",
       "      <th>assetCode</th>\n",
       "      <th>assetName</th>\n",
       "      <th>volume</th>\n",
       "      <th>close</th>\n",
       "      <th>open</th>\n",
       "      <th>returnsClosePrevRaw1</th>\n",
       "      <th>returnsOpenPrevRaw1</th>\n",
       "      <th>returnsClosePrevMktres1</th>\n",
       "      <th>returnsOpenPrevMktres1</th>\n",
       "      <th>returnsClosePrevRaw10</th>\n",
       "      <th>returnsOpenPrevRaw10</th>\n",
       "      <th>returnsClosePrevMktres10</th>\n",
       "      <th>returnsOpenPrevMktres10</th>\n",
       "      <th>returnsOpenNextMktres10</th>\n",
       "      <th>universe</th>\n",
       "    </tr>\n",
       "  </thead>\n",
       "  <tbody>\n",
       "    <tr>\n",
       "      <th>0</th>\n",
       "      <td>1126217</td>\n",
       "      <td>2010-01-04 22:00:00+00:00</td>\n",
       "      <td>A.N</td>\n",
       "      <td>Agilent Technologies Inc</td>\n",
       "      <td>2729240.0</td>\n",
       "      <td>31.30</td>\n",
       "      <td>31.39</td>\n",
       "      <td>0.007403</td>\n",
       "      <td>0.011276</td>\n",
       "      <td>-0.002344</td>\n",
       "      <td>0.010532</td>\n",
       "      <td>0.063179</td>\n",
       "      <td>0.065874</td>\n",
       "      <td>0.027270</td>\n",
       "      <td>0.060092</td>\n",
       "      <td>-0.040197</td>\n",
       "      <td>1.0</td>\n",
       "    </tr>\n",
       "    <tr>\n",
       "      <th>1</th>\n",
       "      <td>1126218</td>\n",
       "      <td>2010-01-04 22:00:00+00:00</td>\n",
       "      <td>AAI.N</td>\n",
       "      <td>AirTran Holdings Inc</td>\n",
       "      <td>3436803.0</td>\n",
       "      <td>5.18</td>\n",
       "      <td>5.26</td>\n",
       "      <td>-0.007663</td>\n",
       "      <td>0.011538</td>\n",
       "      <td>-0.027851</td>\n",
       "      <td>0.021131</td>\n",
       "      <td>0.005825</td>\n",
       "      <td>0.005736</td>\n",
       "      <td>0.083558</td>\n",
       "      <td>0.030178</td>\n",
       "      <td>0.061253</td>\n",
       "      <td>0.0</td>\n",
       "    </tr>\n",
       "    <tr>\n",
       "      <th>2</th>\n",
       "      <td>1126219</td>\n",
       "      <td>2010-01-04 22:00:00+00:00</td>\n",
       "      <td>AAP.N</td>\n",
       "      <td>Advance Auto Parts Inc</td>\n",
       "      <td>1701655.0</td>\n",
       "      <td>40.38</td>\n",
       "      <td>40.70</td>\n",
       "      <td>-0.002470</td>\n",
       "      <td>-0.009973</td>\n",
       "      <td>-0.012789</td>\n",
       "      <td>-0.008617</td>\n",
       "      <td>-0.008378</td>\n",
       "      <td>0.002677</td>\n",
       "      <td>-0.021788</td>\n",
       "      <td>-0.001034</td>\n",
       "      <td>-0.034126</td>\n",
       "      <td>1.0</td>\n",
       "    </tr>\n",
       "    <tr>\n",
       "      <th>3</th>\n",
       "      <td>1126220</td>\n",
       "      <td>2010-01-04 22:00:00+00:00</td>\n",
       "      <td>AAPL.O</td>\n",
       "      <td>Apple Inc</td>\n",
       "      <td>17633150.0</td>\n",
       "      <td>214.01</td>\n",
       "      <td>213.50</td>\n",
       "      <td>0.015555</td>\n",
       "      <td>0.001830</td>\n",
       "      <td>-0.001329</td>\n",
       "      <td>0.009182</td>\n",
       "      <td>0.115449</td>\n",
       "      <td>0.095602</td>\n",
       "      <td>0.011769</td>\n",
       "      <td>0.067086</td>\n",
       "      <td>-0.035828</td>\n",
       "      <td>1.0</td>\n",
       "    </tr>\n",
       "    <tr>\n",
       "      <th>4</th>\n",
       "      <td>1126221</td>\n",
       "      <td>2010-01-04 22:00:00+00:00</td>\n",
       "      <td>AAV.N</td>\n",
       "      <td>Advantage Oil &amp; Gas Ltd</td>\n",
       "      <td>833228.0</td>\n",
       "      <td>6.83</td>\n",
       "      <td>6.61</td>\n",
       "      <td>0.047546</td>\n",
       "      <td>-0.003017</td>\n",
       "      <td>0.028141</td>\n",
       "      <td>-0.000661</td>\n",
       "      <td>0.057276</td>\n",
       "      <td>0.037677</td>\n",
       "      <td>0.002492</td>\n",
       "      <td>0.011989</td>\n",
       "      <td>0.005125</td>\n",
       "      <td>0.0</td>\n",
       "    </tr>\n",
       "    <tr>\n",
       "      <th>5</th>\n",
       "      <td>1126222</td>\n",
       "      <td>2010-01-04 22:00:00+00:00</td>\n",
       "      <td>AAWW.O</td>\n",
       "      <td>Atlas Air Worldwide Holdings Inc</td>\n",
       "      <td>607417.0</td>\n",
       "      <td>38.20</td>\n",
       "      <td>37.82</td>\n",
       "      <td>0.025503</td>\n",
       "      <td>0.007996</td>\n",
       "      <td>0.022892</td>\n",
       "      <td>-0.000519</td>\n",
       "      <td>0.027711</td>\n",
       "      <td>0.028276</td>\n",
       "      <td>0.084676</td>\n",
       "      <td>0.044483</td>\n",
       "      <td>0.045759</td>\n",
       "      <td>0.0</td>\n",
       "    </tr>\n",
       "    <tr>\n",
       "      <th>6</th>\n",
       "      <td>1126223</td>\n",
       "      <td>2010-01-04 22:00:00+00:00</td>\n",
       "      <td>AB.N</td>\n",
       "      <td>AllianceBernstein Holding LP</td>\n",
       "      <td>556791.0</td>\n",
       "      <td>28.40</td>\n",
       "      <td>28.51</td>\n",
       "      <td>0.010676</td>\n",
       "      <td>0.011710</td>\n",
       "      <td>-0.007549</td>\n",
       "      <td>0.014919</td>\n",
       "      <td>0.089793</td>\n",
       "      <td>0.063806</td>\n",
       "      <td>0.017160</td>\n",
       "      <td>0.051175</td>\n",
       "      <td>0.014543</td>\n",
       "      <td>1.0</td>\n",
       "    </tr>\n",
       "    <tr>\n",
       "      <th>7</th>\n",
       "      <td>1126224</td>\n",
       "      <td>2010-01-04 22:00:00+00:00</td>\n",
       "      <td>ABB.N</td>\n",
       "      <td>ABB Ltd</td>\n",
       "      <td>1847102.0</td>\n",
       "      <td>19.64</td>\n",
       "      <td>19.59</td>\n",
       "      <td>0.028272</td>\n",
       "      <td>0.015552</td>\n",
       "      <td>0.008190</td>\n",
       "      <td>0.020370</td>\n",
       "      <td>0.082690</td>\n",
       "      <td>0.070492</td>\n",
       "      <td>-0.022458</td>\n",
       "      <td>0.041288</td>\n",
       "      <td>-0.053444</td>\n",
       "      <td>1.0</td>\n",
       "    </tr>\n",
       "    <tr>\n",
       "      <th>8</th>\n",
       "      <td>1126225</td>\n",
       "      <td>2010-01-04 22:00:00+00:00</td>\n",
       "      <td>ABC.N</td>\n",
       "      <td>AmerisourceBergen Corp</td>\n",
       "      <td>2455833.0</td>\n",
       "      <td>26.63</td>\n",
       "      <td>26.29</td>\n",
       "      <td>0.021481</td>\n",
       "      <td>-0.003789</td>\n",
       "      <td>0.007691</td>\n",
       "      <td>0.001983</td>\n",
       "      <td>0.029776</td>\n",
       "      <td>0.006894</td>\n",
       "      <td>-0.011077</td>\n",
       "      <td>-0.007055</td>\n",
       "      <td>0.033531</td>\n",
       "      <td>1.0</td>\n",
       "    </tr>\n",
       "    <tr>\n",
       "      <th>9</th>\n",
       "      <td>1126226</td>\n",
       "      <td>2010-01-04 22:00:00+00:00</td>\n",
       "      <td>ABD.N</td>\n",
       "      <td>ACCO Brands Corp</td>\n",
       "      <td>389300.0</td>\n",
       "      <td>7.90</td>\n",
       "      <td>7.49</td>\n",
       "      <td>0.085165</td>\n",
       "      <td>-0.006631</td>\n",
       "      <td>0.045373</td>\n",
       "      <td>-0.004468</td>\n",
       "      <td>0.071913</td>\n",
       "      <td>0.002677</td>\n",
       "      <td>0.079582</td>\n",
       "      <td>0.010348</td>\n",
       "      <td>0.062839</td>\n",
       "      <td>0.0</td>\n",
       "    </tr>\n",
       "    <tr>\n",
       "      <th>10</th>\n",
       "      <td>'</td>\n",
       "      <td>NaN</td>\n",
       "      <td>NaN</td>\n",
       "      <td>NaN</td>\n",
       "      <td>NaN</td>\n",
       "      <td>NaN</td>\n",
       "      <td>NaN</td>\n",
       "      <td>NaN</td>\n",
       "      <td>NaN</td>\n",
       "      <td>NaN</td>\n",
       "      <td>NaN</td>\n",
       "      <td>NaN</td>\n",
       "      <td>NaN</td>\n",
       "      <td>NaN</td>\n",
       "      <td>NaN</td>\n",
       "      <td>NaN</td>\n",
       "      <td>NaN</td>\n",
       "    </tr>\n",
       "  </tbody>\n",
       "</table>\n",
       "</div>"
      ],
      "text/plain": [
       "          '                       time assetCode  \\\n",
       "0   1126217  2010-01-04 22:00:00+00:00       A.N   \n",
       "1   1126218  2010-01-04 22:00:00+00:00     AAI.N   \n",
       "2   1126219  2010-01-04 22:00:00+00:00     AAP.N   \n",
       "3   1126220  2010-01-04 22:00:00+00:00    AAPL.O   \n",
       "4   1126221  2010-01-04 22:00:00+00:00     AAV.N   \n",
       "5   1126222  2010-01-04 22:00:00+00:00    AAWW.O   \n",
       "6   1126223  2010-01-04 22:00:00+00:00      AB.N   \n",
       "7   1126224  2010-01-04 22:00:00+00:00     ABB.N   \n",
       "8   1126225  2010-01-04 22:00:00+00:00     ABC.N   \n",
       "9   1126226  2010-01-04 22:00:00+00:00     ABD.N   \n",
       "10        '                        NaN       NaN   \n",
       "\n",
       "                           assetName      volume   close    open  \\\n",
       "0           Agilent Technologies Inc   2729240.0   31.30   31.39   \n",
       "1               AirTran Holdings Inc   3436803.0    5.18    5.26   \n",
       "2             Advance Auto Parts Inc   1701655.0   40.38   40.70   \n",
       "3                          Apple Inc  17633150.0  214.01  213.50   \n",
       "4            Advantage Oil & Gas Ltd    833228.0    6.83    6.61   \n",
       "5   Atlas Air Worldwide Holdings Inc    607417.0   38.20   37.82   \n",
       "6       AllianceBernstein Holding LP    556791.0   28.40   28.51   \n",
       "7                            ABB Ltd   1847102.0   19.64   19.59   \n",
       "8             AmerisourceBergen Corp   2455833.0   26.63   26.29   \n",
       "9                   ACCO Brands Corp    389300.0    7.90    7.49   \n",
       "10                               NaN         NaN     NaN     NaN   \n",
       "\n",
       "    returnsClosePrevRaw1  returnsOpenPrevRaw1  returnsClosePrevMktres1  \\\n",
       "0               0.007403             0.011276                -0.002344   \n",
       "1              -0.007663             0.011538                -0.027851   \n",
       "2              -0.002470            -0.009973                -0.012789   \n",
       "3               0.015555             0.001830                -0.001329   \n",
       "4               0.047546            -0.003017                 0.028141   \n",
       "5               0.025503             0.007996                 0.022892   \n",
       "6               0.010676             0.011710                -0.007549   \n",
       "7               0.028272             0.015552                 0.008190   \n",
       "8               0.021481            -0.003789                 0.007691   \n",
       "9               0.085165            -0.006631                 0.045373   \n",
       "10                   NaN                  NaN                      NaN   \n",
       "\n",
       "    returnsOpenPrevMktres1  returnsClosePrevRaw10  returnsOpenPrevRaw10  \\\n",
       "0                 0.010532               0.063179              0.065874   \n",
       "1                 0.021131               0.005825              0.005736   \n",
       "2                -0.008617              -0.008378              0.002677   \n",
       "3                 0.009182               0.115449              0.095602   \n",
       "4                -0.000661               0.057276              0.037677   \n",
       "5                -0.000519               0.027711              0.028276   \n",
       "6                 0.014919               0.089793              0.063806   \n",
       "7                 0.020370               0.082690              0.070492   \n",
       "8                 0.001983               0.029776              0.006894   \n",
       "9                -0.004468               0.071913              0.002677   \n",
       "10                     NaN                    NaN                   NaN   \n",
       "\n",
       "    returnsClosePrevMktres10  returnsOpenPrevMktres10  \\\n",
       "0                   0.027270                 0.060092   \n",
       "1                   0.083558                 0.030178   \n",
       "2                  -0.021788                -0.001034   \n",
       "3                   0.011769                 0.067086   \n",
       "4                   0.002492                 0.011989   \n",
       "5                   0.084676                 0.044483   \n",
       "6                   0.017160                 0.051175   \n",
       "7                  -0.022458                 0.041288   \n",
       "8                  -0.011077                -0.007055   \n",
       "9                   0.079582                 0.010348   \n",
       "10                       NaN                      NaN   \n",
       "\n",
       "    returnsOpenNextMktres10  universe  \n",
       "0                 -0.040197       1.0  \n",
       "1                  0.061253       0.0  \n",
       "2                 -0.034126       1.0  \n",
       "3                 -0.035828       1.0  \n",
       "4                  0.005125       0.0  \n",
       "5                  0.045759       0.0  \n",
       "6                  0.014543       1.0  \n",
       "7                 -0.053444       1.0  \n",
       "8                  0.033531       1.0  \n",
       "9                  0.062839       0.0  \n",
       "10                      NaN       NaN  "
      ]
     },
     "execution_count": 20,
     "metadata": {},
     "output_type": "execute_result"
    }
   ],
   "source": [
    "pd.read_csv(h)"
   ]
  },
  {
   "cell_type": "code",
   "execution_count": null,
   "metadata": {
    "_uuid": "bf23c5fff4e62bf66e61fc743fa96b01e975100c"
   },
   "outputs": [],
   "source": [
    "def prepare_data(market_obs_df):\n",
    "\n",
    "    \"\"\"\n",
    "    baseline data cleaning procedure\n",
    "    Args:\n",
    "        market_obs_df (market_train_df): from env.get_training_data()\n",
    "        \n",
    "    didn't check for N.A.s\n",
    "    \"\"\"\n",
    "    start_time = time()\n",
    "    \n",
    "    market_obs_df.reset_index(drop=True, inplace=True)\n",
    "    \n",
    "    market_obs_df['close_to_open'] =  np.abs(market_obs_df['close'] / market_obs_df['open'])\n",
    "    market_obs_df['assetName_mean_open'] = market_obs_df.groupby('assetName')['open'].transform('mean')\n",
    "    market_obs_df['assetName_mean_close'] = market_obs_df.groupby('assetName')['close'].transform('mean')\n",
    "\n",
    "    # if open price is too far from mean open price for this company, replace it. Otherwise replace close price.\n",
    "    for i, row in market_obs_df.loc[market_obs_df['close_to_open'] >= 2].iterrows():\n",
    "        if np.abs(row['assetName_mean_open'] - row['open']) > np.abs(row['assetName_mean_close'] - row['close']):\n",
    "            market_obs_df.iloc[i,5] = row['assetName_mean_open']\n",
    "        else:\n",
    "            market_obs_df.iloc[i,4] = row['assetName_mean_close']\n",
    "\n",
    "    for i, row in market_obs_df.loc[market_obs_df['close_to_open'] <= 0.5].iterrows():\n",
    "        if np.abs(row['assetName_mean_open'] - row['open']) > np.abs(row['assetName_mean_close'] - row['close']):\n",
    "            market_obs_df.iloc[i,5] = row['assetName_mean_open']\n",
    "        else:\n",
    "            market_obs_df.iloc[i,4] = row['assetName_mean_close']\n",
    "    \n",
    "    print(\"TIME: %.2f for cleaning data\" % (time()-start_time))\n",
    "    "
   ]
  },
  {
   "cell_type": "code",
   "execution_count": null,
   "metadata": {
    "_uuid": "e3793dba744f3219ad6baf039ed15ff3d3a57845"
   },
   "outputs": [],
   "source": [
    "# sanity check on prepare data\n",
    "X = market_train_df.copy()\n",
    "prepare_data(X)\n",
    "assert len(market_train_df.columns) != len(X.columns)\n",
    "del X"
   ]
  },
  {
   "cell_type": "markdown",
   "metadata": {
    "_uuid": "f01d5e5216626b68aa04fbd9daad677eef752a44"
   },
   "source": [
    "TODO: if I try to run linear regressor it gives me You might need a way of handling missing values, such as pandas.DataFrame.fillna or sklearn.preprocessing.Imputer. See our Missing Values tutorial for more details."
   ]
  },
  {
   "cell_type": "markdown",
   "metadata": {
    "_uuid": "bc17765462132a3c94e0dd261ff95c66a7088120"
   },
   "source": [
    "-----"
   ]
  },
  {
   "cell_type": "markdown",
   "metadata": {
    "_uuid": "81f71b09934367c367023d38fb7012b877242bac"
   },
   "source": [
    "<h1>Models"
   ]
  },
  {
   "cell_type": "markdown",
   "metadata": {
    "_uuid": "e14fcdafa930280c38db1fd3c7cf79e6785f9220"
   },
   "source": [
    "<h1>Linear regressor"
   ]
  },
  {
   "cell_type": "code",
   "execution_count": null,
   "metadata": {
    "_uuid": "32cf31e4ffc1e56498e753636688ea3bfa39964e"
   },
   "outputs": [],
   "source": [
    "def model_lr(X, Y):\n",
    "    \"\"\"\n",
    "    this is the core model used for final predictions\n",
    "    Args:\n",
    "        X: pandas.df\n",
    "        Y: values\n",
    "    Return:\n",
    "        model, results (None)\n",
    "    \"\"\"\n",
    "    \n",
    "    prepare_data(X) \n",
    "    Y = Y.clip(Y.quantile(0.001), Y.quantile(0.999))\n",
    "    Y.reset_index(drop=True, inplace=True)\n",
    "    \n",
    "    X = X.iloc[:, (X.columns != 'assetCode') \n",
    "               & (X.columns != 'assetName') \n",
    "               & (X.columns != 'time') \n",
    "               & (X.columns != 'returnsOpenNextMktres10')\n",
    "               & (X.columns != 'period')]\n",
    "    X, Y = X.fillna(0), Y.fillna(0)\n",
    "    \n",
    "    from sklearn.linear_model import LinearRegression\n",
    "    lr = LinearRegression()\n",
    "    lr.fit(X.values, Y)\n",
    "    \n",
    "    del X, Y\n",
    "    return lr, None\n",
    "\n",
    "def linear_regressor(lr, X_test):\n",
    "    \"\"\"simple lr\n",
    "    Args:\n",
    "        X: pandas.df\n",
    "        Y: values\n",
    "        X_test: not values\n",
    "    Return:\n",
    "        predictions\n",
    "    \"\"\"\n",
    "    \n",
    "    prepare_data(X_test) \n",
    "    \n",
    "    X_test = X_test.iloc[:, (X_test.columns != 'assetCode') \n",
    "               & (X_test.columns != 'assetName') \n",
    "               & (X_test.columns != 'time') \n",
    "               & (X_test.columns != 'returnsOpenNextMktres10')\n",
    "               & (X_test.columns != 'period')]\n",
    "    X_test = X_test.fillna(0) #fillna must be in values?\n",
    "    res = lr.predict(X_test.values).clip(-1, 1)\n",
    "    \n",
    "    del X_test\n",
    "    return res"
   ]
  },
  {
   "cell_type": "markdown",
   "metadata": {
    "_uuid": "906e460ff2a95834316fcced2aa210a8339735bf"
   },
   "source": [
    "<h2>Example\n",
    "<p>This is how to use the model for stacking, with linear_regressor"
   ]
  },
  {
   "cell_type": "code",
   "execution_count": null,
   "metadata": {
    "_uuid": "ade1506294761606c69d6c4176c6d42d6599004a"
   },
   "outputs": [],
   "source": [
    "X, Y = market_train_df.drop('returnsOpenNextMktres10',axis=1), market_train_df['returnsOpenNextMktres10']\n",
    "split = int(len(X) * 0.8)\n",
    "X_train, Y_train = X[:split], Y[:split]\n",
    "X_test, Y_test = X[split:], Y[split:]\n",
    "\n",
    "lr, _ = model_lr(X_train.copy(), Y_train.copy())\n",
    "pred_lr = linear_regressor(lr, X_test.copy()) #DEBUG: important to use copy!\n",
    "\n",
    "from sklearn.metrics import r2_score\n",
    "print('Test sigma score for linreg in block %d is %f' % (0, r2_score(Y_test.values, pred_lr)))"
   ]
  },
  {
   "cell_type": "markdown",
   "metadata": {
    "_uuid": "72ea1dc3e03a79c7df9646ab954ab825ec42e08a"
   },
   "source": [
    "<h1>Full model predictions\n",
    "<p>This is the model to make predictions after stacking"
   ]
  },
  {
   "cell_type": "code",
   "execution_count": null,
   "metadata": {
    "_uuid": "8e4df2d3914d036f49012be75eba20a96d53107c"
   },
   "outputs": [],
   "source": [
    "X, Y = market_train_df, market_train_df['returnsOpenNextMktres10']\n",
    "model00, training_results00 = model_lr(X.copy(), Y.copy())"
   ]
  },
  {
   "cell_type": "code",
   "execution_count": null,
   "metadata": {
    "_uuid": "147fbc16d803d34a24593abc4c3a66f0459f1f12"
   },
   "outputs": [],
   "source": [
    "type(model00)"
   ]
  },
  {
   "cell_type": "markdown",
   "metadata": {
    "_uuid": "c03c1ccb16e117d7e021e8b357552b5fc1cb5010"
   },
   "source": [
    "<h2>LGB_0629"
   ]
  },
  {
   "cell_type": "code",
   "execution_count": null,
   "metadata": {
    "_uuid": "da51ac2ab7125a3ce2cb75522af800f56b2df5a5"
   },
   "outputs": [],
   "source": [
    "def model_lgb_0629(X, Y):\n",
    "        \"\"\"\n",
    "        this is the lightLGB_0629 core model that returns model (used for real predictions)\n",
    "        Args:\n",
    "            X: features\n",
    "            Y: label\n",
    "        Returns:\n",
    "            model: lightgbm instance\n",
    "            training_results: dict with training results\n",
    "        \"\"\"\n",
    "        import lightgbm as lgb\n",
    "        start_time = time()\n",
    "        \n",
    "        prepare_data(X) \n",
    "        Y = Y.clip(Y.quantile(0.001), Y.quantile(0.999))\n",
    "        Y.reset_index(drop=True, inplace=True)\n",
    "        \n",
    "        def sigma_score(preds, valid_data):\n",
    "            \"\"\"metric definition\"\"\"\n",
    "            df_time = valid_data.params['extra_time'] # will be injected afterwards\n",
    "            labels = valid_data.get_label()\n",
    "\n",
    "        #    assert len(labels) == len(df_time)\n",
    "\n",
    "            x_t = preds * labels #  * df_valid['universe'] -> Here we take out the 'universe' term because we already keep only those equals to 1.\n",
    "\n",
    "            # Here we take advantage of the fact that `labels` (used to calculate `x_t`)\n",
    "            # is a pd.Series and call `group_by`\n",
    "            x_t_sum = x_t.groupby(df_time).sum()\n",
    "            score = x_t_sum.mean() / x_t_sum.std()\n",
    "\n",
    "            return 'sigma_score', score, True\n",
    "        \n",
    "        #split train validation\n",
    "        split = int(len(X) * 0.8)\n",
    "        test_train_distsance = 2000\n",
    "        X_train, X_val = X[:split - test_train_distsance], X[split:]\n",
    "        Y_train, Y_val = Y[:split - test_train_distsance], Y[split:]\n",
    "\n",
    "        #take out universe = 0 from validation\n",
    "        universe_filter = X['universe'][split:] == 1.0\n",
    "        X_val = X_val[universe_filter]\n",
    "        Y_val = Y_val[universe_filter]\n",
    "\n",
    "        # this is a time_val series used to calc the sigma_score later, applied split and universe filter\n",
    "        time_val = X['time'][split:][universe_filter]\n",
    "        assert len(time_val) == len(X_val)\n",
    "        time_train = X['time'][:split - test_train_distsance]\n",
    "        assert len(time_train) == len(X_train)\n",
    "\n",
    "        X_train = X_train.iloc[:, (X_train.columns != 'assetCode') \n",
    "                   & (X.columns != 'assetName') \n",
    "                   & (X.columns != 'time') \n",
    "                   & (X.columns != 'returnsOpenNextMktres10')\n",
    "                   & (X.columns != 'period')]\n",
    "\n",
    "        X_val = X_val.iloc[:, (X_val.columns != 'assetCode') \n",
    "                   & (X.columns != 'assetName') \n",
    "                   & (X.columns != 'time') \n",
    "                   & (X.columns != 'returnsOpenNextMktres10')\n",
    "                   & (X.columns != 'period')]\n",
    "\n",
    "        assert len(X_train.columns) == len(X_val.columns)\n",
    "\n",
    "        train_cols = X_train.columns.tolist()\n",
    "\n",
    "        lgb_train = lgb.Dataset(X_train.values, Y_train, feature_name=train_cols, free_raw_data=False)\n",
    "        lgb_val = lgb.Dataset(X_val.values, Y_val, feature_name=train_cols, free_raw_data=False)\n",
    "\n",
    "        lgb_train.params = {\n",
    "            'extra_time' : time_train.factorize()[0]\n",
    "        }\n",
    "        lgb_val.params = {\n",
    "            'extra_time' : time_val.factorize()[0]\n",
    "        }\n",
    "\n",
    "        x_1 = [0.19000424246380565, 2452, 212, 328, 202]\n",
    "        #this is from eda script 67\n",
    "        lgb_params = {\n",
    "                'task': 'train',\n",
    "                'boosting_type': 'gbdt',\n",
    "                'objective': 'regression_l1',\n",
    "        #         'objective': 'regression',\n",
    "                'learning_rate': x_1[0],\n",
    "                'num_leaves': x_1[1],\n",
    "                'min_data_in_leaf': x_1[2],\n",
    "        #         'num_iteration': x_1[3],\n",
    "                'num_iteration': 239,\n",
    "                'max_bin': x_1[4],\n",
    "                'verbose': 1,\n",
    "                'lambda_l1': 0.0,\n",
    "                'lambda_l2' : 1.0,\n",
    "                'metric':'None'\n",
    "        }\n",
    "\n",
    "        training_results = {}\n",
    "        model = lgb.train(lgb_params, lgb_train, num_boost_round=1000, valid_sets=(lgb_val,lgb_train), valid_names=('valid','train'), verbose_eval=25,\n",
    "                      early_stopping_rounds=20, feval=sigma_score, evals_result=training_results)\n",
    "\n",
    "        print(\"\\n\\nTIME - lgb_0629: {}\".format(time()-start_time))\n",
    "        \n",
    "        del X, Y, X_train, Y_train, X_val, Y_val\n",
    "        return model, training_results\n",
    "\n",
    "    \n",
    "def lgb_0629(model, X_test):\n",
    "    \"\"\"\n",
    "    this is the lightLGB model that got 0.629 scores on public LB (with parameters from script 67)\n",
    "    Args:\n",
    "        lgb: lgb model\n",
    "        X_test: features (not values)\n",
    "    Returns:\n",
    "        prediction: Y_test\n",
    "    \"\"\"\n",
    "    \n",
    "    prepare_data(X_test)\n",
    "    \n",
    "    X_test = X_test.iloc[:, (X_test.columns != 'assetCode') \n",
    "               & (X_test.columns != 'assetName') \n",
    "               & (X_test.columns != 'time') \n",
    "               & (X_test.columns != 'returnsOpenNextMktres10')\n",
    "               & (X_test.columns != 'period')]\n",
    "    \n",
    "    res = model.predict(X_test.values).clip(-1, 1)\n",
    "    \n",
    "    del X_test\n",
    "    return res"
   ]
  },
  {
   "cell_type": "markdown",
   "metadata": {
    "_uuid": "961d2d7418f83cb8553e82b9bfd07d0ad6a017a1"
   },
   "source": [
    "<h2>Example\n",
    "<p>This is how to use the model for stacking, with lgb_0629 function"
   ]
  },
  {
   "cell_type": "code",
   "execution_count": null,
   "metadata": {
    "_uuid": "ade1506294761606c69d6c4176c6d42d6599004a"
   },
   "outputs": [],
   "source": [
    "X, Y = market_train_df, market_train_df['returnsOpenNextMktres10']\n",
    "\n",
    "split = int(len(X) * 0.8)\n",
    "X_train, Y_train = X[:split], Y[:split]\n",
    "X_test, Y_test = X[split:], Y[split:]\n",
    "\n",
    "model, results = model_lgb_0629(X_train.copy(), Y_train.copy())\n",
    "predictions = lgb_0629(model, X_test.copy()) #DEBUG: did you use copy?\n",
    "\n",
    "from sklearn.metrics import r2_score\n",
    "print('Test sigma score for lbg in block %d is %f' % (0, r2_score(Y_test.values, predictions)))\n",
    "\n",
    "plt.figure(figsize=(8,4))\n",
    "plt.plot(results['train']['sigma_score'])\n",
    "plt.plot(results['valid']['sigma_score'])"
   ]
  },
  {
   "cell_type": "markdown",
   "metadata": {
    "_uuid": "fe752d3debf8e7f6327b7db0c6532d08fc51bdf5"
   },
   "source": [
    "<h2>Full-model predictions\n",
    "<p>This is the model to make predictions after stacking"
   ]
  },
  {
   "cell_type": "code",
   "execution_count": null,
   "metadata": {
    "_uuid": "2bbf825abd59dfd09fbd53cb49f980706a8f4bdd"
   },
   "outputs": [],
   "source": [
    "X, Y = market_train_df, market_train_df['returnsOpenNextMktres10']\n",
    "model01, training_results01 = model_lgb_0629(X.copy(), Y.copy())\n",
    "\n",
    "plt.figure(figsize=(8,4))\n",
    "plt.plot(training_results01['train']['sigma_score'])\n",
    "plt.plot(training_results01['valid']['sigma_score'])"
   ]
  },
  {
   "cell_type": "markdown",
   "metadata": {
    "_uuid": "13611e86d9f8443c97f13672d291358ce0268df6"
   },
   "source": [
    "<h1>First level models stacking"
   ]
  },
  {
   "cell_type": "markdown",
   "metadata": {
    "_uuid": "89557676c5af8e909f51a4636983e363f7229957"
   },
   "source": [
    "Validation in presence of time component\n",
    "\n",
    "**f) KFold scheme in time series\n",
    "**\n",
    "In time-series task we usually have a fixed period of time we are asked to predict. Like day, week, month or arbitrary period with duration of T.\n",
    "\n",
    "Split the train data into chunks of duration T. Select first M chunks.\n",
    "Fit N diverse models on those M chunks and predict for the chunk M+1. Then fit those models on first M+1 chunks and predict for chunk M+2 and so on, until you hit the end. After that use all train data to fit models and get predictions for test. Now we will have meta-features for the chunks starting from number M+1 as well as meta-features for the test.\n",
    "Now we can use meta-features from first K chunks [M+1,M+2,..,M+K] to fit level 2 models and validate them on chunk M+K+1. Essentially we are back to step 1. with the lesser amount of chunks and meta-features instead of features."
   ]
  },
  {
   "cell_type": "markdown",
   "metadata": {
    "_uuid": "56fe13838692be290b2ecab7f419d904b67a294c"
   },
   "source": [
    "T = 6 month\n",
    "* 14 periods in Train\n",
    "* 3 periods in LB\n",
    "* 1 period in pLB\n",
    "\n",
    "Build meta features on train periods: [8, 9, 10, 11, 12, 13]"
   ]
  },
  {
   "cell_type": "markdown",
   "metadata": {
    "_uuid": "5d6c47ccb13ad2ac6fc8fca7e69029c5bc29ae17"
   },
   "source": [
    "<h2>Building Trainining meta-features"
   ]
  },
  {
   "cell_type": "markdown",
   "metadata": {
    "_uuid": "d0246264128cfa54fcf286fe10bdf302b8292056"
   },
   "source": [
    "Let's first add periods so that data manipulation will be easier"
   ]
  },
  {
   "cell_type": "code",
   "execution_count": null,
   "metadata": {
    "_uuid": "b9d7d74ce63db727ae00e0d20c8479d5566184fc"
   },
   "outputs": [],
   "source": [
    "market_train_df = market_train_df.rename(columns={'returnsOpenNextMktres10':'target'})"
   ]
  },
  {
   "cell_type": "code",
   "execution_count": null,
   "metadata": {
    "_uuid": "9e7513c3359ff60f31f3832c976e422ba13422c8"
   },
   "outputs": [],
   "source": [
    "periods = ['2010-01-01 22:00:00+0000',\n",
    "           '2010-06-15 22:00:00+0000',\n",
    "           '2011-01-01 22:00:00+0000',\n",
    "           '2011-06-15 22:00:00+0000',\n",
    "           '2012-01-01 22:00:00+0000',\n",
    "           '2012-06-15 22:00:00+0000',\n",
    "           '2013-01-01 22:00:00+0000',\n",
    "           '2013-06-15 22:00:00+0000',\n",
    "           '2014-01-01 22:00:00+0000',\n",
    "           '2014-06-15 22:00:00+0000',\n",
    "           '2015-01-01 22:00:00+0000',\n",
    "           '2015-06-15 22:00:00+0000',\n",
    "           '2016-01-01 22:00:00+0000',\n",
    "           '2016-06-15 22:00:00+0000',\n",
    "           '2017-01-01 22:00:00+0000']"
   ]
  },
  {
   "cell_type": "code",
   "execution_count": null,
   "metadata": {
    "_uuid": "9471d84e78cc3456f5f85a7f80e6136d7c2915a1"
   },
   "outputs": [],
   "source": [
    "market_train_df['period'] = -1"
   ]
  },
  {
   "cell_type": "code",
   "execution_count": null,
   "metadata": {
    "_uuid": "269c51b8434bbe8d665549625c714f5e88004a8c"
   },
   "outputs": [],
   "source": [
    "for i, period in tqdm(enumerate(periods[:-1])):\n",
    "    market_train_df.loc[(market_train_df['time'] < periods[i + 1]) & (period <= market_train_df['time']), ['period']] = i"
   ]
  },
  {
   "cell_type": "code",
   "execution_count": null,
   "metadata": {
    "_uuid": "a036c80ef9f26f64322e5581c90af9cda38e52fc"
   },
   "outputs": [],
   "source": [
    "#move period to second column\n",
    "cols = market_train_df.columns.tolist()\n",
    "cols.insert(1, cols[-1])\n",
    "cols.pop()"
   ]
  },
  {
   "cell_type": "code",
   "execution_count": null,
   "metadata": {
    "_uuid": "1fe8dab98f61f335596f703b790843a2680c53c2"
   },
   "outputs": [],
   "source": [
    "X_train_level1 = market_train_df[cols]"
   ]
  },
  {
   "cell_type": "code",
   "execution_count": null,
   "metadata": {
    "_uuid": "9027b912314fcf79f1c743ae38c18452f38129a6"
   },
   "outputs": [],
   "source": [
    "y_train_level1 = X_train_level1['target']\n",
    "X_train_level1 = X_train_level1.drop('target',axis=1)"
   ]
  },
  {
   "cell_type": "code",
   "execution_count": null,
   "metadata": {
    "_uuid": "3f23a4001871f4747e49c97d80d81675b5a009d1"
   },
   "outputs": [],
   "source": [
    "#sanity check\n",
    "assert len(X_train_level1['period'].unique()) == 14"
   ]
  },
  {
   "cell_type": "markdown",
   "metadata": {
    "_uuid": "30fe1538ea296696a4b0c64f373a0a7abebf3f03"
   },
   "source": [
    "Now that we cleaned the Database let's build x_train_level2"
   ]
  },
  {
   "cell_type": "code",
   "execution_count": null,
   "metadata": {
    "_uuid": "fc244eae4ade9c37f2424b9dbceafcef4b15d242"
   },
   "outputs": [],
   "source": [
    "periods_level2 = X_train_level1['period'][X_train_level1['period'].isin([8, 9, 10, 11, 12, 13])]"
   ]
  },
  {
   "cell_type": "code",
   "execution_count": null,
   "metadata": {
    "_uuid": "660e9a5f218b712454db95880fa36f5b515f4c73"
   },
   "outputs": [],
   "source": [
    "y_train_level2 = y_train_level1[X_train_level1['period'].isin([8, 9, 10, 11, 12, 13])]"
   ]
  },
  {
   "cell_type": "code",
   "execution_count": null,
   "metadata": {
    "_uuid": "116422e22b36f2675ffce902ae38ad793150ec1a"
   },
   "outputs": [],
   "source": [
    "# how many level1 do we have?\n",
    "level1_models = 2\n",
    "X_train_level2 = np.zeros([y_train_level2.shape[0], level1_models])"
   ]
  },
  {
   "cell_type": "code",
   "execution_count": null,
   "metadata": {
    "_uuid": "2a0fbdedffab9bb77ddde9b811121d5d92d4aa12",
    "scrolled": false
   },
   "outputs": [],
   "source": [
    "# Now fill `X_train_level2` with metafeatures\n",
    "from sklearn.metrics import r2_score\n",
    "for cur_block_num in tqdm([8, 9, 10, 11, 12, 13]):\n",
    "    \n",
    "    print(cur_block_num)\n",
    "    \n",
    "    '''\n",
    "        1. Split `X_train` into parts\n",
    "           Remember, that corresponding dates are stored in `dates_train` \n",
    "        2. Fit linear regression \n",
    "        3. Fit LightGBM and put predictions          \n",
    "        4. Store predictions from 2. and 3. in the right place of `X_train_level2`. \n",
    "           You can use `dates_train_level2` for it\n",
    "           Make sure the order of the meta-features is the same as in `X_test_level2`\n",
    "    '''      \n",
    "    cur_block_X = X_train_level1[X_train_level1['period'] < cur_block_num]\n",
    "    cur_block_Y = y_train_level1[X_train_level1['period'] < cur_block_num]\n",
    "    \n",
    "    cur_block_X_test = X_train_level1[X_train_level1['period'] == cur_block_num]\n",
    "    cur_block_Y_test = y_train_level1[X_train_level1['period'] == cur_block_num]\n",
    "    \n",
    "    #TODO there is NA in values\n",
    "    \n",
    "    # let's train here all the models\n",
    "    '''\n",
    "    MODEL 1\n",
    "    : linear regression\n",
    "    '''\n",
    "    block_model00, results = model_lr(cur_block_X.copy(), cur_block_Y.copy())\n",
    "    pred_lr = linear_regressor(block_model00, cur_block_X_test.copy())\n",
    "    print('Test r2 score for linreg in block %d is %f' % (cur_block_num, r2_score(cur_block_Y_test, pred_lr)))\n",
    "    \n",
    "    \n",
    "    '''\n",
    "    MODEL 2\n",
    "    lightLGB (lgb_0629)\n",
    "    using 'script 67' params\n",
    "    '''\n",
    "    block_model01, results = model_lgb_0629(cur_block_X.copy(), cur_block_Y.copy())\n",
    "    pred_lgb = lgb_0629(block_model01, cur_block_X_test.copy())\n",
    "    print('Test r2 score for lgb_0629 in block %d is %f' % (cur_block_num, r2_score(cur_block_Y_test, pred_lgb)))\n",
    "    \n",
    "    cur_block_X_train_level2 = np.c_[pred_lr, pred_lgb] \n",
    "    \n",
    "    X_train_level2[periods_level2 == cur_block_num] = cur_block_X_train_level2"
   ]
  },
  {
   "cell_type": "code",
   "execution_count": null,
   "metadata": {
    "_uuid": "83dc3a2704cd9a55530593b64633db59e3a82741",
    "scrolled": true
   },
   "outputs": [],
   "source": [
    "plt.figure(figsize=(15,10))\n",
    "plt.scatter(X_train_level2[periods_level2 == 9][:,0].clip(-0.04, 0.04), X_train_level2[periods_level2 == 9][:,1].clip(-0.04, 0.04),alpha=0.3) \n",
    "plt.scatter(X_train_level2[periods_level2 == 8][:,0].clip(-0.04, 0.04), X_train_level2[periods_level2 == 8][:,1].clip(-0.04, 0.04),alpha=0.3) \n",
    "plt.scatter(X_train_level2[periods_level2 == 10][:,0].clip(-0.04, 0.04), X_train_level2[periods_level2 == 10][:,1].clip(-0.04, 0.04),alpha=0.3) \n",
    "plt.scatter(X_train_level2[periods_level2 == 11][:,0].clip(-0.04, 0.04), X_train_level2[periods_level2 == 11][:,1].clip(-0.04, 0.04),alpha=0.3) \n",
    "plt.scatter(X_train_level2[periods_level2 == 12][:,0].clip(-0.04, 0.04), X_train_level2[periods_level2 == 12][:,1].clip(-0.04, 0.04),alpha=0.3) \n",
    "plt.scatter(X_train_level2[periods_level2 == 13][:,0].clip(-0.04, 0.04), X_train_level2[periods_level2 == 13][:,1].clip(-0.04, 0.04),alpha=0.3) \n",
    "plt.title(\"first level predictions\")\n",
    "plt.xlabel(\"Predictions of model 0\")\n",
    "plt.ylabel(\"Predictions of model 1\")\n",
    "plt.plot([-0.04, 0.04], [-0.04, 0.04])"
   ]
  },
  {
   "cell_type": "code",
   "execution_count": null,
   "metadata": {
    "_uuid": "a56d0e6fbef913fcb7ef9d218682eec5fe8cca19"
   },
   "outputs": [],
   "source": [
    "plt.figure(figsize=(15,10))\n",
    "plt.plot(results['train']['sigma_score'])\n",
    "plt.plot(results['valid']['sigma_score'])\n",
    "#notably good!?"
   ]
  },
  {
   "cell_type": "markdown",
   "metadata": {
    "_uuid": "168ff495f22c1d45e59521df158d264d537e4a86"
   },
   "source": [
    "<h1>Stacking</h1>\n",
    "now let's move to level2, and let's build a model that stacks the predictions of model of level1"
   ]
  },
  {
   "cell_type": "code",
   "execution_count": null,
   "metadata": {
    "_uuid": "5a7c9fdbd4f6ddc23056bd89a084439f2edf91a3"
   },
   "outputs": [],
   "source": [
    "#sanity check on level 2 training test dimensions\n",
    "assert X_train_level2.shape[0] == np.array(y_train_level2).shape[0]"
   ]
  },
  {
   "cell_type": "code",
   "execution_count": null,
   "metadata": {
    "_uuid": "771537c101822193bea7b0d5bd7ae30c8d356432"
   },
   "outputs": [],
   "source": [
    "from sklearn.linear_model import LinearRegression\n",
    "level2_model = LinearRegression()"
   ]
  },
  {
   "cell_type": "code",
   "execution_count": null,
   "metadata": {
    "_uuid": "c38bad35a3105ac7232eaf0a76c30c2a12a7e1fa"
   },
   "outputs": [],
   "source": [
    "level2_model.fit(X_train_level2, y_train_level2)"
   ]
  },
  {
   "cell_type": "markdown",
   "metadata": {
    "_uuid": "8056b881707072c379ad2e89b9c59c3c041a2ab7"
   },
   "source": [
    "## Main Loop\n",
    "Let's loop through all the days and make our random predictions.  The `days` generator (returned from `get_prediction_days`) will simply stop returning values once you've reached the end."
   ]
  },
  {
   "cell_type": "code",
   "execution_count": null,
   "metadata": {
    "_uuid": "ef60bc52a8a228e5a2ce18e4bd416f1f1f25aeae"
   },
   "outputs": [],
   "source": [
    "days = env.get_prediction_days()\n",
    "for (market_obs_df, news_obs_df, predictions_template_df) in days:\n",
    "    \n",
    "    market_obs_df['universe'] = 1\n",
    "    \n",
    "    \"\"\"\n",
    "    MODEL 00 PREDICTIONS\n",
    "    \"\"\"\n",
    "    pred_model00 = linear_regressor(model00, market_obs_df.copy())\n",
    "    \n",
    "    \"\"\"\n",
    "    MODEL 01 PREDICTIONS\n",
    "    \"\"\"\n",
    "    pred_model01 = lgb_0629(model01, market_obs_df.copy())\n",
    "    \n",
    "    \"\"\"\n",
    "    META-MODEL PREDICTIONS\n",
    "    \"\"\"\n",
    "    features_level2 = np.c_[pred_model00, pred_model01] \n",
    "    \n",
    "    #with stacking\n",
    "    #predictions_template_df.confidenceValue = level2_model.predict(features_level2).clip(-1 , 1)\n",
    "    \n",
    "    #without stacking\n",
    "    predictions_template_df.confidenceValue = pred_model01 \n",
    "    \n",
    "    \n",
    "    env.predict(predictions_template_df)\n",
    "    \n",
    "print('Done!')"
   ]
  },
  {
   "cell_type": "markdown",
   "metadata": {
    "_uuid": "7c8fbcca87c7f6abc53e86408417bf12ce21bb7f"
   },
   "source": [
    "## **`write_submission_file`** function\n",
    "\n",
    "Writes your predictions to a CSV file (`submission.csv`) in the current working directory."
   ]
  },
  {
   "cell_type": "code",
   "execution_count": null,
   "metadata": {
    "_uuid": "2c8ed34ffb2c47c6e124530ec798c0b4eb01ddd5"
   },
   "outputs": [],
   "source": [
    "env.write_submission_file()"
   ]
  },
  {
   "cell_type": "code",
   "execution_count": null,
   "metadata": {
    "_uuid": "d38aa8a67cad3f0c105db7e764ec9b805db39ceb"
   },
   "outputs": [],
   "source": [
    "# We've got a submission file!\n",
    "import os\n",
    "print([filename for filename in os.listdir('.') if '.csv' in filename])"
   ]
  },
  {
   "cell_type": "markdown",
   "metadata": {
    "_uuid": "f464f37885ffa763a2592e2867d74685f75be506"
   },
   "source": [
    "As indicated by the helper message, calling `write_submission_file` on its own does **not** make a submission to the competition.  It merely tells the module to write the `submission.csv` file as part of the Kernel's output.  To make a submission to the competition, you'll have to **Commit** your Kernel and find the generated `submission.csv` file in that Kernel Version's Output tab (note this is _outside_ of the Kernel Editor), then click \"Submit to Competition\".  When we re-run your Kernel during Stage Two, we will run the Kernel Version (generated when you hit \"Commit\") linked to your chosen Submission."
   ]
  },
  {
   "cell_type": "markdown",
   "metadata": {
    "_uuid": "2e3a267ea3149403c49ff59515a1a669ca2d1f9f"
   },
   "source": [
    "## Restart the Kernel to run your code again\n",
    "In order to combat cheating, you are only allowed to call `make_env` or iterate through `get_prediction_days` once per Kernel run.  However, while you're iterating on your model it's reasonable to try something out, change the model a bit, and try it again.  Unfortunately, if you try to simply re-run the code, or even refresh the browser page, you'll still be running on the same Kernel execution session you had been running before, and the `twosigmanews` module will still throw errors.  To get around this, you need to explicitly restart your Kernel execution session, which you can do by pressing the Restart button in the Kernel Editor's bottom Console tab:\n",
    "![Restart button](https://i.imgur.com/hudu8jF.png)"
   ]
  }
 ],
 "metadata": {
  "kernelspec": {
   "display_name": "Python 2",
   "language": "python",
   "name": "python2"
  },
  "language_info": {
   "codemirror_mode": {
    "name": "ipython",
    "version": 2
   },
   "file_extension": ".py",
   "mimetype": "text/x-python",
   "name": "python",
   "nbconvert_exporter": "python",
   "pygments_lexer": "ipython2",
   "version": "2.7.10"
  }
 },
 "nbformat": 4,
 "nbformat_minor": 1
}
