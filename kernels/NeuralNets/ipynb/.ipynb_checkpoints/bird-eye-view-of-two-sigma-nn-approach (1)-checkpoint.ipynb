{
 "cells": [
  {
   "cell_type": "markdown",
   "metadata": {
    "_uuid": "5ffb21374c7cf4b98e7239045ef9bf312effee25"
   },
   "source": [
    "# Two Sigma: Using News to Predict Stock Movements\n",
    "\n",
    "![](https://media0.giphy.com/media/rM0wxzvwsv5g4/giphy.gif?cid=3640f6095bab5cfd7030627455631fb5)"
   ]
  },
  {
   "cell_type": "markdown",
   "metadata": {
    "_uuid": "225708f447eee93041881f9d6c3a3e890cb16718"
   },
   "source": [
    "## Notebook Outline\n",
    "\n",
    "1. [**market_train_df Data Investigation**](#1.-market_train_df-Data-Investigation) - DataFrame with market training data  \n",
    "    1.1 [**Top-10 Largest Assets code by Close value**](#1.1-Top-10-Largest-Assets-code-by-Close-value)  \n",
    "    1.2 [**Open and Close value of Top 10 Asset Code**](#1.2-Open-and-Close-value-of-Top-10-Asset-Code)  \n",
    "    1.3 [**Assets By Trading Days**](#1.3-Assets-By-Trading-Days)  \n",
    "    1.4 [**Asset Code Analysis**](#1.4-Asset-Code-Analysis)  \n",
    "    1.5 [**Unknown Value By Assets Code**](#1.5-Unknown-Value-By-Assets-Code)\n",
    "2. [**news_train_df Data Investigation**](#2.news_train_df-Data-Investigation) - DataFrame with news training data  \n",
    "    2.1 [**Sentiment Count By Asset code or Urgency**](#2.1-Sentiment-Count-By-Asset-code-or-Urgency)\n",
    "3. [**Data Prepare**](#3.Data-Prepare)\n",
    "4. [**Model Training**](#4.Model-Training)\n",
    "5. [**Final Submission**](#5.Final-Submission)"
   ]
  },
  {
   "cell_type": "markdown",
   "metadata": {
    "_uuid": "04d1490c8e772957c56764a89cf3a5038657c4bf"
   },
   "source": [
    "#### First Time Load environment can't load again"
   ]
  },
  {
   "cell_type": "code",
   "execution_count": null,
   "metadata": {
    "_kg_hide-input": true,
    "_uuid": "5044d2aa615621b457f1f115dff80313cbc1126d"
   },
   "outputs": [],
   "source": [
    "# https://www.kaggle.com/arunkumarramanan/market-data-nn-baseline\n",
    "import plotly.offline as py\n",
    "py.init_notebook_mode(connected=True)\n",
    "import plotly.graph_objs as go\n",
    "import plotly.tools as tls\n",
    "import warnings\n",
    "# from plotly.tools import FigureFactory as FF \n",
    "warnings.filterwarnings('ignore')\n",
    "import pandas as pd\n",
    "import numpy as np\n",
    "\n",
    "#=================================================\n",
    "#***********************************import keras\n",
    "from keras import initializers\n",
    "from keras import regularizers\n",
    "from keras import constraints\n",
    "from keras.utils import conv_utils\n",
    "from keras.utils.data_utils import get_file\n",
    "from keras.engine.topology import get_source_inputs\n",
    "from keras.engine import InputSpec\n",
    "from keras import backend as K\n",
    "from keras.layers import LeakyReLU\n",
    "from keras.layers import ZeroPadding2D\n",
    "from keras.losses import binary_crossentropy\n",
    "import keras.callbacks as callbacks\n",
    "from keras.callbacks import Callback\n",
    "from keras.applications.xception import Xception\n",
    "from keras.layers import multiply\n",
    "\n",
    "import keras\n",
    "from keras import optimizers\n",
    "from keras.legacy import interfaces\n",
    "from keras.utils.generic_utils import get_custom_objects\n",
    "\n",
    "from keras.engine.topology import Input\n",
    "from keras.engine.training import Model\n",
    "from keras.layers.convolutional import Conv2D, UpSampling2D, Conv2DTranspose\n",
    "from keras.layers.core import Activation, SpatialDropout2D\n",
    "from keras.layers.merge import concatenate\n",
    "from keras.layers.normalization import BatchNormalization\n",
    "from keras.layers.pooling import MaxPooling2D\n",
    "from keras.layers import Input,Dropout,BatchNormalization,Activation,Add\n",
    "from keras.regularizers import l2\n",
    "from keras.layers.core import Dense, Lambda\n",
    "from keras.layers.merge import concatenate, add\n",
    "from keras.layers import GlobalAveragePooling2D, Reshape, Dense, multiply, Permute\n",
    "from keras.optimizers import SGD"
   ]
  },
  {
   "cell_type": "code",
   "execution_count": null,
   "metadata": {
    "_cell_guid": "b1076dfc-b9ad-4769-8c92-a6c4dae69d19",
    "_kg_hide-input": true,
    "_uuid": "8f2839f25d086af736a60e9eeb907d3b93b6e0e5"
   },
   "outputs": [],
   "source": [
    "from kaggle.competitions import twosigmanews\n",
    "# You can only call make_env() once, so don't lose it!\n",
    "env = twosigmanews.make_env()\n",
    "print('Done!')"
   ]
  },
  {
   "cell_type": "code",
   "execution_count": null,
   "metadata": {
    "_kg_hide-input": true,
    "_uuid": "c20fa6deeac9d374c98774abd90bdc76b023ee63"
   },
   "outputs": [],
   "source": [
    "(market_train_df, news_train_df) = env.get_training_data()"
   ]
  },
  {
   "cell_type": "code",
   "execution_count": null,
   "metadata": {
    "_uuid": "d8debc3c075b1cd0af662b43c0e1c0c67fc8e339"
   },
   "outputs": [],
   "source": [
    "market_train, news_train = market_train_df.copy(), news_train_df.copy()\n",
    "market_train_df1, news_train_df1 = market_train_df.copy(), news_train_df.copy()"
   ]
  },
  {
   "cell_type": "code",
   "execution_count": null,
   "metadata": {
    "_kg_hide-input": true,
    "_uuid": "dc44af4faeae2d6ddd9755d85f3bc11191478c4f"
   },
   "outputs": [],
   "source": [
    "import pandas as pd\n",
    "import matplotlib.pyplot as plt\n",
    "plt.style.use(\"fivethirtyeight\")\n",
    "%matplotlib inline\n",
    "import seaborn as sns\n",
    "import numpy as np\n",
    "import plotly.figure_factory as ff\n",
    "\n",
    "\n",
    "######### Function\n",
    "def mis_value_graph(data):\n",
    "#     data.isnull().sum().plot(kind=\"bar\", figsize = (20,10), fontsize = 20)\n",
    "#     plt.xlabel(\"Columns\", fontsize = 20)\n",
    "#     plt.ylabel(\"Value Count\", fontsize = 20)\n",
    "#     plt.title(\"Total Missing Value By Column\", fontsize = 20)\n",
    "#     for i in range(len(data)):\n",
    "#          colors.append(generate_color())\n",
    "            \n",
    "    data = [\n",
    "    go.Bar(\n",
    "        x = data.columns,\n",
    "        y = data.isnull().sum(),\n",
    "        name = 'Unknown Assets',\n",
    "        textfont=dict(size=20),\n",
    "        marker=dict(\n",
    "#         color= colors,\n",
    "        line=dict(\n",
    "            color=generate_color(),\n",
    "            width=2,\n",
    "        ), opacity = 0.45\n",
    "    )\n",
    "    ),\n",
    "    ]\n",
    "    layout= go.Layout(\n",
    "        title= '\"Total Missing Value By Column\"',\n",
    "        xaxis= dict(title='Columns', ticklen=5, zeroline=False, gridwidth=2),\n",
    "        yaxis=dict(title='Value Count', ticklen=5, gridwidth=2),\n",
    "        showlegend=True\n",
    "    )\n",
    "    fig= go.Figure(data=data, layout=layout)\n",
    "    py.iplot(fig, filename='skin')\n",
    "    \n",
    "\n",
    "def mis_impute(data):\n",
    "    for i in data.columns:\n",
    "        if data[i].dtype == \"object\":\n",
    "            data[i] = data[i].fillna(\"other\")\n",
    "        elif (data[i].dtype == \"int64\" or data[i].dtype == \"float64\"):\n",
    "            data[i] = data[i].fillna(data[i].mean())\n",
    "        else:\n",
    "            pass\n",
    "    return data\n",
    "\n",
    "\n",
    "import random\n",
    "\n",
    "def generate_color():\n",
    "    color = '#{:02x}{:02x}{:02x}'.format(*map(lambda x: random.randint(0, 255), range(3)))\n",
    "    return color"
   ]
  },
  {
   "cell_type": "markdown",
   "metadata": {
    "_uuid": "bad04dde83254bc63d4182b910e5d46f6fede887"
   },
   "source": [
    "# 1. market_train_df Data Investigation"
   ]
  },
  {
   "cell_type": "code",
   "execution_count": null,
   "metadata": {
    "_kg_hide-input": true,
    "_uuid": "84b5a58f67ebded82e6aabc66ca36411e6db35a9",
    "scrolled": true
   },
   "outputs": [],
   "source": [
    "mis_value_graph(market_train_df)\n",
    "market_train_df = mis_impute(market_train_df)\n",
    "market_train_df.isna().sum().to_frame()"
   ]
  },
  {
   "cell_type": "markdown",
   "metadata": {
    "_uuid": "a1f912fe4d1d0f546e52f28ed7cc192c14b96819"
   },
   "source": [
    "## 1.1 Top-10 Largest Assets code by Close value"
   ]
  },
  {
   "cell_type": "code",
   "execution_count": null,
   "metadata": {
    "_kg_hide-input": true,
    "_uuid": "c1d2e223ca29374871f8b72862a839bfbb3247ca"
   },
   "outputs": [],
   "source": [
    "# https://www.kaggle.com/pestipeti/simple-eda-two-sigma"
   ]
  },
  {
   "cell_type": "code",
   "execution_count": null,
   "metadata": {
    "_kg_hide-input": true,
    "_uuid": "8aaacfea2fa559906785a61585e308393b195485"
   },
   "outputs": [],
   "source": [
    "best_asset_volume = market_train_df.groupby(\"assetCode\")[\"close\"].count().to_frame().sort_values(by=['close'],ascending= False)\n",
    "best_asset_volume = best_asset_volume.sort_values(by=['close'])\n",
    "largest_by_volume = list(best_asset_volume.nlargest(10, ['close']).index)\n",
    "# largest_by_volume"
   ]
  },
  {
   "cell_type": "code",
   "execution_count": null,
   "metadata": {
    "_kg_hide-input": true,
    "_uuid": "e3c0ed4ea17a65e0fe9e861e91317b0755b64d19",
    "scrolled": false
   },
   "outputs": [],
   "source": [
    "for i in largest_by_volume:\n",
    "    asset1_df = market_train_df[(market_train_df['assetCode'] == i) & (market_train_df['time'] > '2015-01-01') & (market_train_df['time'] < '2017-01-01')]\n",
    "    # Create a trace\n",
    "    trace1 = go.Scatter(\n",
    "        x = asset1_df['time'].dt.strftime(date_format='%Y-%m-%d').values,\n",
    "        y = asset1_df['close'].values,\n",
    "        line = dict(color = generate_color()),opacity = 0.8\n",
    "    )\n",
    "\n",
    "    layout = dict(title = \"Closing prices of {}\".format(i),\n",
    "                  xaxis = dict(title = 'Month'),\n",
    "                  yaxis = dict(title = 'Price (USD)'),\n",
    "                  )\n",
    "\n",
    "    data = [trace1]\n",
    "    py.iplot(dict(data=data, layout=layout), filename='basic-line')"
   ]
  },
  {
   "cell_type": "markdown",
   "metadata": {
    "_uuid": "fd5a5f36c886f1218cf591d2c4d629cb12a2b528"
   },
   "source": [
    "## 1.2 Open and Close value of Top 10 Asset Code"
   ]
  },
  {
   "cell_type": "code",
   "execution_count": null,
   "metadata": {
    "_kg_hide-input": true,
    "_uuid": "b045c76ad631229a5a018552267ef6ff9c7b32b9",
    "scrolled": false
   },
   "outputs": [],
   "source": [
    "for i in largest_by_volume:\n",
    "\n",
    "    asset1_df['high'] = asset1_df['open']\n",
    "    asset1_df['low'] = asset1_df['close']\n",
    "\n",
    "    for ind, row in asset1_df.iterrows():\n",
    "        if row['close'] > row['open']:\n",
    "            \n",
    "            asset1_df.loc[ind, 'high'] = row['close']\n",
    "            asset1_df.loc[ind, 'low'] = row['open']\n",
    "\n",
    "    trace1 = go.Candlestick(\n",
    "        x = asset1_df['time'].dt.strftime(date_format='%Y-%m-%d').values,\n",
    "        open = asset1_df['open'].values,\n",
    "        low = asset1_df['low'].values,\n",
    "        high = asset1_df['high'].values,\n",
    "        close = asset1_df['close'].values,\n",
    "        increasing=dict(line=dict(color= generate_color())),\n",
    "        decreasing=dict(line=dict(color= generate_color())))\n",
    "\n",
    "    layout = dict(title = \"Candlestick chart for {}\".format(i),\n",
    "                  xaxis = dict(\n",
    "                      title = 'Month',\n",
    "                      rangeslider = dict(visible = False)\n",
    "                  ),\n",
    "                  yaxis = dict(title = 'Price (USD)')\n",
    "                 )\n",
    "    data = [trace1]\n",
    "\n",
    "    py.iplot(dict(data=data, layout=layout), filename='basic-line')"
   ]
  },
  {
   "cell_type": "markdown",
   "metadata": {
    "_uuid": "97f671ced6e0b38ff9465aa874ea17001a9eb329"
   },
   "source": [
    "## 1.3 Assets By Trading Days"
   ]
  },
  {
   "cell_type": "code",
   "execution_count": null,
   "metadata": {
    "_kg_hide-input": true,
    "_uuid": "c802ef9cbd1385545f151fbacecb071b9c82ea74",
    "scrolled": false
   },
   "outputs": [],
   "source": [
    "assetsByTradingDay = market_train_df.groupby(market_train_df['time'].dt.date)['assetCode'].nunique()\n",
    "# Create a trace\n",
    "trace1 = go.Bar(\n",
    "    x = assetsByTradingDay.index, # asset1_df['time'].dt.strftime(date_format='%Y-%m-%d').values,\n",
    "    y = assetsByTradingDay.values, \n",
    "    marker=dict(\n",
    "        color= generate_color(),\n",
    "        line=dict(\n",
    "            color=generate_color(),\n",
    "            width=1.5,\n",
    "        ), opacity = 0.8\n",
    "    )\n",
    ")\n",
    "\n",
    "layout = dict(title = \"Assets by trading days\",\n",
    "              xaxis = dict(title = 'Year'),\n",
    "              yaxis = dict(title = 'Assets'))\n",
    "data = [trace1]\n",
    "\n",
    "py.iplot(dict(data=data, layout=layout), filename='basic-line')"
   ]
  },
  {
   "cell_type": "markdown",
   "metadata": {
    "_uuid": "57354c88de48e8ed3f7ef55aaae9781e4a2091f6"
   },
   "source": [
    "## 1.4 Asset Code Analysis"
   ]
  },
  {
   "cell_type": "code",
   "execution_count": null,
   "metadata": {
    "_kg_hide-input": true,
    "_uuid": "7eb474c022bdaa144cc1e8df451b675c4d93f5a3",
    "scrolled": true
   },
   "outputs": [],
   "source": [
    "for i in range(1,100,10):\n",
    "    volumeByAssets = market_train_df.groupby(market_train_df['assetCode'])['volume'].sum()\n",
    "    highestVolumes = volumeByAssets.sort_values(ascending=False)[i:i+9]\n",
    "    # Create a trace\n",
    "    colors = ['#FEBFB3', '#E1396C', '#96D38C', '#D0F9B1']\n",
    "    trace1 = go.Pie(\n",
    "        labels = highestVolumes.index,\n",
    "        values = highestVolumes.values,\n",
    "        textfont=dict(size=20),\n",
    "        marker=dict(colors=colors,line=dict(color='#000000', width=2)), hole = 0.45)\n",
    "    layout = dict(title = \"Highest trading volumes for range of {} to {}\".format(i, i+9))\n",
    "    data = [trace1]\n",
    "    py.iplot(dict(data=data, layout=layout), filename='basic-line')\n"
   ]
  },
  {
   "cell_type": "markdown",
   "metadata": {
    "_uuid": "7a4e4976340c9c4f65be29faa9bd148bee8f6ca0"
   },
   "source": [
    "# 1.5 Unknown Value By Assets Code"
   ]
  },
  {
   "cell_type": "code",
   "execution_count": null,
   "metadata": {
    "_kg_hide-input": true,
    "_uuid": "e34e4f2bd697fe6e4ffcd471c11b7b890e79f423"
   },
   "outputs": [],
   "source": [
    "assetNameGB = market_train_df[market_train_df['assetName'] == 'Unknown'].groupby('assetCode')\n",
    "unknownAssets = assetNameGB.size().reset_index('assetCode')\n",
    "unknownAssets.columns = ['assetCode',\"value\"]\n",
    "unknownAssets = unknownAssets.sort_values(\"value\", ascending= False)\n",
    "unknownAssets.head(5)\n",
    "\n",
    "colors = []\n",
    "for i in range(len(unknownAssets)):\n",
    "     colors.append(generate_color())\n",
    "\n",
    "        \n",
    "data = [\n",
    "    go.Bar(\n",
    "        x = unknownAssets.assetCode.head(25),\n",
    "        y = unknownAssets.value.head(25),\n",
    "        name = 'Unknown Assets',\n",
    "        textfont=dict(size=20),\n",
    "        marker=dict(\n",
    "        color= colors,\n",
    "        line=dict(\n",
    "            color='#000000',\n",
    "            width=2,\n",
    "        ), opacity = 0.45\n",
    "    )\n",
    "    ),\n",
    "    ]\n",
    "layout= go.Layout(\n",
    "    title= 'Unknown Assets by Asset code',\n",
    "    xaxis= dict(title='Columns', ticklen=5, zeroline=False, gridwidth=2),\n",
    "    yaxis=dict(title='Value Count', ticklen=5, gridwidth=2),\n",
    "    showlegend=True\n",
    ")\n",
    "fig= go.Figure(data=data, layout=layout)\n",
    "py.iplot(fig, filename='skin')"
   ]
  },
  {
   "cell_type": "markdown",
   "metadata": {
    "_uuid": "5040d8417b925cf691dcfa1f837f006f55f63c08"
   },
   "source": [
    "# 2.news_train_df Data Investigation"
   ]
  },
  {
   "cell_type": "code",
   "execution_count": null,
   "metadata": {
    "_kg_hide-input": true,
    "_uuid": "25115010e14ef3497932902db0cef68501ddca11",
    "scrolled": true
   },
   "outputs": [],
   "source": [
    "mis_value_graph(news_train_df)\n",
    "news_train_df = mis_impute(news_train_df)\n",
    "news_train_df.isna().sum().to_frame()"
   ]
  },
  {
   "cell_type": "code",
   "execution_count": null,
   "metadata": {
    "_kg_hide-input": true,
    "_uuid": "7476e26e8d6cb4addf8b4d4a655320dc8e203d64"
   },
   "outputs": [],
   "source": [
    "print(\"News data shape\",news_train_df.shape)\n",
    "news_train_df.head()"
   ]
  },
  {
   "cell_type": "markdown",
   "metadata": {
    "_uuid": "7343044f45217d3f909fc60719baed60c1c5584c"
   },
   "source": [
    "## 2.1 Sentiment Count By Asset code or Urgency"
   ]
  },
  {
   "cell_type": "code",
   "execution_count": null,
   "metadata": {
    "_kg_hide-input": true,
    "_uuid": "111401141af807b76f4189d846bf313c33295aef"
   },
   "outputs": [],
   "source": [
    "# news_train_df['urgency'].value_counts()\n",
    "news_sentiment_count = news_train_df.groupby([\"urgency\",\"assetName\"])[[\"sentimentNegative\",\"sentimentNeutral\",\"sentimentPositive\"]].count()\n",
    "news_sentiment_count = news_sentiment_count.reset_index()"
   ]
  },
  {
   "cell_type": "code",
   "execution_count": null,
   "metadata": {
    "_kg_hide-input": true,
    "_uuid": "60977448e08a04d36770652e3fde4408391f01c2"
   },
   "outputs": [],
   "source": [
    "trace = go.Table(\n",
    "    header=dict(values=list(news_sentiment_count.columns),\n",
    "                fill = dict(color='rgba(55, 128, 191, 0.7)'),\n",
    "                align = ['left'] * 5),\n",
    "    cells=dict(values=[news_sentiment_count.urgency,news_sentiment_count.assetName,news_sentiment_count[\"sentimentNegative\"], news_sentiment_count[\"sentimentPositive\"], news_sentiment_count[\"sentimentNeutral\"]],\n",
    "               fill = dict(color='rgba(245, 246, 249, 1)'),\n",
    "               align = ['left'] * 5))\n",
    "\n",
    "data = [trace] \n",
    "py.iplot(data, filename = 'pandas_table')"
   ]
  },
  {
   "cell_type": "code",
   "execution_count": null,
   "metadata": {
    "_kg_hide-input": true,
    "_uuid": "aba4a01859ced3ef07f6bcabab7f995793c6f5d1"
   },
   "outputs": [],
   "source": [
    "trace0 = go.Bar(\n",
    "    x= news_sentiment_count.assetName.head(30),\n",
    "    y=news_sentiment_count.sentimentNegative.values,\n",
    "    name='sentimentNegative',\n",
    "    textfont=dict(size=20),\n",
    "        marker=dict(\n",
    "        color= generate_color(),\n",
    "        opacity = 0.87\n",
    "    )\n",
    ")\n",
    "trace1 = go.Bar(\n",
    "    x= news_sentiment_count.assetName.head(30),\n",
    "    y=news_sentiment_count.sentimentNeutral.values,\n",
    "    name='sentimentNeutral',\n",
    "    textfont=dict(size=20),\n",
    "        marker=dict(\n",
    "        color= generate_color(),\n",
    "        opacity = 0.87\n",
    "    )\n",
    ")\n",
    "trace2 = go.Bar(\n",
    "    x= news_sentiment_count.assetName.head(30),\n",
    "    y=news_sentiment_count.sentimentPositive.values,\n",
    "    name='sentimentPositive',\n",
    "    textfont=dict(size=20),\n",
    "    marker=dict(\n",
    "        color= generate_color(),\n",
    "        opacity = 0.87\n",
    "    )\n",
    ")\n",
    "\n",
    "data = [trace0, trace1, trace2]\n",
    "layout = go.Layout(\n",
    "    xaxis=dict(tickangle=-45),\n",
    "    barmode='group',\n",
    ")\n",
    "\n",
    "fig = go.Figure(data=data, layout=layout)\n",
    "py.iplot(fig, filename='angled-text-bar')"
   ]
  },
  {
   "cell_type": "code",
   "execution_count": null,
   "metadata": {
    "_kg_hide-input": true,
    "_uuid": "63f48dfae7d9677b1c918b7dbded560b60b54970"
   },
   "outputs": [],
   "source": [
    "news_sentiment_urgency = news_train_df.groupby([\"urgency\"])[[\"sentimentNegative\",\"sentimentNeutral\",\"sentimentPositive\"]].count()\n",
    "news_sentiment_urgency = news_sentiment_urgency.reset_index()"
   ]
  },
  {
   "cell_type": "code",
   "execution_count": null,
   "metadata": {
    "_kg_hide-input": true,
    "_uuid": "45dda454bbea5a6cb52d89fc5f90a2631c3c1763"
   },
   "outputs": [],
   "source": [
    "trace = go.Table(\n",
    "    header=dict(values=list(news_sentiment_urgency.columns),\n",
    "                fill = dict(color='rgba(55, 128, 191, 0.7)'),\n",
    "                align = ['left'] * 5),\n",
    "    cells=dict(values=[news_sentiment_urgency.urgency,news_sentiment_urgency[\"sentimentNegative\"], news_sentiment_urgency[\"sentimentPositive\"], news_sentiment_urgency[\"sentimentNeutral\"]],\n",
    "               fill = dict(color='rgba(245, 246, 249, 1)'),\n",
    "               align = ['left'] * 5))\n",
    "\n",
    "data = [trace] \n",
    "py.iplot(data, filename = 'pandas_table')"
   ]
  },
  {
   "cell_type": "code",
   "execution_count": null,
   "metadata": {
    "_kg_hide-input": true,
    "_uuid": "08c61e4dc2ad9c7915c143db9955e487e8bb4dc3",
    "scrolled": false
   },
   "outputs": [],
   "source": [
    "trace0 = go.Bar(\n",
    "    x= news_sentiment_urgency.urgency.values,\n",
    "    y=news_sentiment_urgency.sentimentNegative.values,\n",
    "    name='sentimentNegative',\n",
    "    textfont=dict(size=20),\n",
    "        marker=dict(\n",
    "        color= generate_color(),\n",
    "            line=dict(\n",
    "            color='#000000',\n",
    "            width=2,\n",
    "        ),\n",
    "        opacity = 0.87\n",
    "    )\n",
    ")\n",
    "trace1 = go.Bar(\n",
    "    x= news_sentiment_urgency.urgency.values,\n",
    "    y=news_sentiment_urgency.sentimentNegative.values,\n",
    "    name='sentimentNeutral',\n",
    "    textfont=dict(size=20),\n",
    "        marker=dict(\n",
    "        color= generate_color(),\n",
    "        line=dict(\n",
    "            color='#000000',\n",
    "            width=2,\n",
    "        ),\n",
    "        opacity = 0.87\n",
    "    )\n",
    ")\n",
    "trace2 = go.Bar(\n",
    "    x= news_sentiment_urgency.urgency.values,\n",
    "    y=news_sentiment_urgency.sentimentNegative.values,\n",
    "    name='sentimentPositive',\n",
    "    textfont=dict(size=20),\n",
    "    marker=dict(\n",
    "        line=dict(\n",
    "            color='#000000',\n",
    "            width=2,\n",
    "        ),\n",
    "        color= generate_color(),\n",
    "        opacity = 0.87\n",
    "    )\n",
    ")\n",
    "data = [trace0, trace1, trace2]\n",
    "layout = go.Layout(\n",
    "    xaxis=dict(tickangle=-45),\n",
    "    barmode='group',\n",
    ")\n",
    "\n",
    "fig = go.Figure(data=data, layout=layout)\n",
    "py.iplot(fig, filename='angled-text-bar')"
   ]
  },
  {
   "cell_type": "markdown",
   "metadata": {
    "_uuid": "48640808972e570e38fd17187d372ba42c1087f7"
   },
   "source": [
    "# 3.Data Prepare"
   ]
  },
  {
   "cell_type": "code",
   "execution_count": null,
   "metadata": {
    "_uuid": "0c92e03db7f535bc0d720f1e0bc4b635c23fe247"
   },
   "outputs": [],
   "source": [
    "cat_cols = ['assetCode']\n",
    "num_cols = ['volume', 'close', 'open', 'returnsClosePrevRaw1', 'returnsOpenPrevRaw1', 'returnsClosePrevMktres1',\n",
    "                    'returnsOpenPrevMktres1', 'returnsClosePrevRaw10', 'returnsOpenPrevRaw10', 'returnsClosePrevMktres10',\n",
    "                    'returnsOpenPrevMktres10']"
   ]
  },
  {
   "cell_type": "code",
   "execution_count": null,
   "metadata": {
    "_uuid": "98b49fce09ea1c8df352041238ce067f42be3a1b"
   },
   "outputs": [],
   "source": [
    "from sklearn.model_selection import train_test_split\n",
    "train_indices, val_indices = train_test_split(market_train_df1.index.values,test_size=0.25, random_state=23)"
   ]
  },
  {
   "cell_type": "code",
   "execution_count": null,
   "metadata": {
    "_uuid": "cfe0f9a02e11b25cc93c67c441c354869f6db7c0"
   },
   "outputs": [],
   "source": [
    "def encode(encoder, x):\n",
    "    len_encoder = len(encoder)\n",
    "    try:\n",
    "        id = encoder[x]\n",
    "    except KeyError:\n",
    "        id = len_encoder\n",
    "    return id\n",
    "\n",
    "encoders = [{} for cat in cat_cols]\n",
    "\n",
    "\n",
    "for i, cat in enumerate(cat_cols):\n",
    "    print('encoding %s ...' % cat, end=' ')\n",
    "    encoders[i] = {l: id for id, l in enumerate(market_train_df1.loc[train_indices, cat].astype(str).unique())}\n",
    "    market_train_df1[cat] = market_train_df1[cat].astype(str).apply(lambda x: encode(encoders[i], x))\n",
    "    print('Done')\n",
    "\n",
    "embed_sizes = [len(encoder) + 1 for encoder in encoders] #+1 for possible unknown assets"
   ]
  },
  {
   "cell_type": "code",
   "execution_count": null,
   "metadata": {
    "_uuid": "405206db8fe6e1202d962b5f31a2d2dec29cabd0"
   },
   "outputs": [],
   "source": [
    "from sklearn.preprocessing import StandardScaler\n",
    " \n",
    "market_train_df1[num_cols] = market_train_df1[num_cols].fillna(0)\n",
    "print('scaling numerical columns')\n",
    "\n",
    "scaler = StandardScaler()\n",
    "\n",
    "#col_mean = market_train[col].mean()\n",
    "#market_train[col].fillna(col_mean, inplace=True)\n",
    "scaler = StandardScaler()\n",
    "market_train_df1[num_cols] = scaler.fit_transform(market_train_df1[num_cols])"
   ]
  },
  {
   "cell_type": "code",
   "execution_count": null,
   "metadata": {
    "_kg_hide-input": true,
    "_kg_hide-output": false,
    "_uuid": "91e848916f4468dc82135fde151e0558e44e0641"
   },
   "outputs": [],
   "source": [
    "# %%time\n",
    "# def data_prep(market_train,news_train):\n",
    "#     market_train.time = market_train.time.dt.date\n",
    "#     news_train.time = news_train.time.dt.hour\n",
    "#     news_train.sourceTimestamp= news_train.sourceTimestamp.dt.hour\n",
    "#     news_train.firstCreated = news_train.firstCreated.dt.date\n",
    "#     news_train['assetCodesLen'] = news_train['assetCodes'].map(lambda x: len(eval(x)))\n",
    "#     news_train['assetCodes'] = news_train['assetCodes'].map(lambda x: list(eval(x))[0])\n",
    "#     kcol = ['firstCreated', 'assetCodes']\n",
    "#     news_train = news_train.groupby(kcol, as_index=False).mean()\n",
    "#     market_train = pd.merge(market_train, news_train, how='left', left_on=['time', 'assetCode'], \n",
    "#                             right_on=['firstCreated', 'assetCodes'])\n",
    "#     lbl = {k: v for v, k in enumerate(market_train['assetCode'].unique())}\n",
    "#     market_train['assetCodeT'] = market_train['assetCode'].map(lbl)\n",
    "    \n",
    "    \n",
    "#     market_train = market_train.dropna(axis=0)\n",
    "    \n",
    "#     return market_train\n",
    "\n",
    "# market_train = data_prep(market_train_df, news_train_df)\n",
    "# market_train.shape"
   ]
  },
  {
   "cell_type": "code",
   "execution_count": null,
   "metadata": {
    "_kg_hide-input": true,
    "_kg_hide-output": false,
    "_uuid": "6a72c15d83f57e74289b1fdf6d169577dcd176d7"
   },
   "outputs": [],
   "source": [
    "# %%time\n",
    "# from datetime import datetime, date\n",
    "# # The target is binary\n",
    "# market_train = market_train.loc[market_train['time_x']>=date(2009, 1, 1)]\n",
    "# up = market_train.returnsOpenNextMktres10 >= 0\n",
    "# fcol = [c for c in market_train if c not in ['assetCode', 'assetCodes', 'assetCodesLen', 'assetName', 'audiences', \n",
    "#                                              'firstCreated', 'headline', 'headlineTag', 'marketCommentary', 'provider', \n",
    "#                                              'returnsOpenNextMktres10', 'sourceId', 'subjects', 'time', 'time_x', 'universe','sourceTimestamp']]"
   ]
  },
  {
   "cell_type": "code",
   "execution_count": null,
   "metadata": {
    "_kg_hide-input": true,
    "_kg_hide-output": false,
    "_uuid": "c3a45f4a32e5b8fe53c333ea9c5f9ab77753e27e"
   },
   "outputs": [],
   "source": [
    "# %%time\n",
    "# # We still need the returns for model tuning\n",
    "# X = market_train[fcol].values\n",
    "# up = up.values\n",
    "# r = market_train.returnsOpenNextMktres10.values\n",
    "\n",
    "# # Scaling of X values\n",
    "# # It is good to keep these scaling values for later\n",
    "# mins = np.min(X, axis=0)\n",
    "# maxs = np.max(X, axis=0)\n",
    "# rng = maxs - mins\n",
    "# X = 1 - ((maxs - X) / rng)\n",
    "\n",
    "# # Sanity check\n",
    "# assert X.shape[0] == up.shape[0] == r.shape[0]"
   ]
  },
  {
   "cell_type": "markdown",
   "metadata": {
    "_uuid": "6a8ade488c8259dffcd61b171a9da1a4750696e7"
   },
   "source": [
    "# 4.Model Training"
   ]
  },
  {
   "cell_type": "code",
   "execution_count": null,
   "metadata": {
    "_kg_hide-input": true,
    "_kg_hide-output": true,
    "_uuid": "a1545e3696f7002ab98c86abc5a80ac68c9d9013"
   },
   "outputs": [],
   "source": [
    "# %%time\n",
    "# # from xgboost import XGBClassifier\n",
    "# from sklearn import model_selection\n",
    "# from sklearn.metrics import accuracy_score\n",
    "# import time\n",
    "\n",
    "# X_train, X_test, up_train, up_test, r_train, r_test = model_selection.train_test_split(X, up, r, test_size=0.25, random_state=99)"
   ]
  },
  {
   "cell_type": "code",
   "execution_count": null,
   "metadata": {
    "_kg_hide-input": true,
    "_kg_hide-output": true,
    "_uuid": "bfb24f9953bf805f2ca66e31f0056c9f7d3d03f2"
   },
   "outputs": [],
   "source": [
    "# xgb_up = XGBClassifier(n_jobs=4,n_estimators=250,max_depth=8,eta=0.1)"
   ]
  },
  {
   "cell_type": "code",
   "execution_count": null,
   "metadata": {
    "_kg_hide-input": true,
    "_kg_hide-output": true,
    "_uuid": "eb54b35a157b96af3d8cb9d0d6634f35d7a522e6"
   },
   "outputs": [],
   "source": [
    "# t = time.time()\n",
    "# print('Fitting Up')\n",
    "# xgb_up.fit(X_train,up_train)\n",
    "# print(f'Done, time = {time.time() - t}')"
   ]
  },
  {
   "cell_type": "code",
   "execution_count": null,
   "metadata": {
    "_kg_hide-input": true,
    "_kg_hide-output": true,
    "_uuid": "d2e15a2f0b8876ae1f7d10205b1f989cb24a50e1"
   },
   "outputs": [],
   "source": [
    "# from sklearn.metrics import accuracy_score\n",
    "# accuracy_score(xgb_up.predict(X_test),up_test)"
   ]
  },
  {
   "cell_type": "markdown",
   "metadata": {
    "_uuid": "8906bdcb3f77e4858287b039cfbdafc5500dfdd1"
   },
   "source": [
    "## Neural Network Baseline"
   ]
  },
  {
   "cell_type": "code",
   "execution_count": null,
   "metadata": {
    "_uuid": "edd68788cf518413ef5036a7740a5b656f28ab17"
   },
   "outputs": [],
   "source": [
    "from keras.models import Model\n",
    "from keras.layers import Input, Dense, Embedding, Concatenate, Flatten, BatchNormalization\n",
    "from keras.losses import binary_crossentropy, mse\n",
    "\n",
    "categorical_inputs = []\n",
    "for cat in cat_cols:\n",
    "    categorical_inputs.append(Input(shape=[1], name=cat))\n",
    "\n",
    "categorical_embeddings = []\n",
    "for i, cat in enumerate(cat_cols):\n",
    "    categorical_embeddings.append(Embedding(embed_sizes[i], 10)(categorical_inputs[i]))\n",
    "\n",
    "#categorical_logits = Concatenate()([Flatten()(cat_emb) for cat_emb in categorical_embeddings])\n",
    "categorical_logits = Flatten()(categorical_embeddings[0])\n",
    "categorical_logits = Dense(32,activation='relu')(categorical_logits)\n",
    "categorical_logits =Dropout(0.5)(categorical_logits)\n",
    "categorical_logits =BatchNormalization()(categorical_logits)\n",
    "categorical_logits = Dense(32,activation='relu')(categorical_logits)\n",
    "\n",
    "numerical_inputs = Input(shape=(11,), name='num')\n",
    "numerical_logits = numerical_inputs\n",
    "numerical_logits = BatchNormalization()(numerical_logits)\n",
    "\n",
    "numerical_logits = Dense(128,activation='relu')(numerical_logits)\n",
    "numerical_logits=Dropout(0.5)(numerical_logits)\n",
    "numerical_logits = BatchNormalization()(numerical_logits)\n",
    "numerical_logits = Dense(128,activation='relu')(numerical_logits)\n",
    "numerical_logits = Dense(64,activation='relu')(numerical_logits)\n",
    "\n",
    "logits = Concatenate()([numerical_logits,categorical_logits])\n",
    "logits = Dense(64,activation='relu')(logits)\n",
    "out = Dense(1, activation='sigmoid')(logits)\n",
    "\n",
    "model = Model(inputs = categorical_inputs + [numerical_inputs], outputs=out)\n",
    "model.compile(optimizer='adam',loss=binary_crossentropy)"
   ]
  },
  {
   "cell_type": "code",
   "execution_count": null,
   "metadata": {
    "_uuid": "a3d431cc8303c5de25c9748718f9de956cfdac7d"
   },
   "outputs": [],
   "source": [
    "def get_input(market_train, indices):\n",
    "    X_num = market_train.loc[indices, num_cols].values\n",
    "    X = {'num':X_num}\n",
    "    for cat in cat_cols:\n",
    "        X[cat] = market_train.loc[indices, cat_cols].values\n",
    "    y = (market_train.loc[indices,'returnsOpenNextMktres10'] >= 0).values\n",
    "    r = market_train.loc[indices,'returnsOpenNextMktres10'].values\n",
    "    u = market_train.loc[indices, 'universe']\n",
    "    d = market_train.loc[indices, 'time'].dt.date\n",
    "    return X,y,r,u,d\n",
    "\n",
    "# r, u and d are used to calculate the scoring metric\n",
    "X_train,y_train,r_train,u_train,d_train = get_input(market_train_df1, train_indices)\n",
    "X_valid,y_valid,r_valid,u_valid,d_valid = get_input(market_train_df1, val_indices)"
   ]
  },
  {
   "cell_type": "code",
   "execution_count": null,
   "metadata": {
    "_uuid": "362e4a269ab88fcd9a22c18912f8fb42a314ae95"
   },
   "outputs": [],
   "source": [
    "# https://www.kaggle.com/guowenrui/market-nn-if-you-like-you-can-use-it-and-upvote\n",
    "class SWA(keras.callbacks.Callback):\n",
    "    \n",
    "    def __init__(self, filepath, swa_epoch):\n",
    "        super(SWA, self).__init__()\n",
    "        self.filepath = filepath\n",
    "        self.swa_epoch = swa_epoch \n",
    "    \n",
    "    def on_train_begin(self, logs=None):\n",
    "        self.nb_epoch = self.params['epochs']\n",
    "        print('Stochastic weight averaging selected for last {} epochs.'\n",
    "              .format(self.nb_epoch - self.swa_epoch))\n",
    "        \n",
    "    def on_epoch_end(self, epoch, logs=None):\n",
    "        \n",
    "        if epoch == self.swa_epoch:\n",
    "            self.swa_weights = self.model.get_weights()\n",
    "            \n",
    "        elif epoch > self.swa_epoch:    \n",
    "            for i in range(len(self.swa_weights)):\n",
    "                self.swa_weights[i] = (self.swa_weights[i] * \n",
    "                    (epoch - self.swa_epoch) + self.model.get_weights()[i])/((epoch - self.swa_epoch)  + 1)  \n",
    "\n",
    "        else:\n",
    "            pass\n",
    "        \n",
    "    def on_train_end(self, logs=None):\n",
    "        self.model.set_weights(self.swa_weights)\n",
    "        print('Final model parameters set to stochastic weight average.')\n",
    "        self.model.save_weights(self.filepath)\n",
    "        print('Final stochastic averaged weights saved to file.')\n",
    "        \n",
    "class SnapshotCallbackBuilder:\n",
    "    def __init__(self, nb_epochs, nb_snapshots, init_lr=0.1):\n",
    "        self.T = nb_epochs\n",
    "        self.M = nb_snapshots\n",
    "        self.alpha_zero = init_lr\n",
    "\n",
    "    def get_callbacks(self, model_prefix='Model'):\n",
    "\n",
    "        callback_list = [\n",
    "            callbacks.ModelCheckpoint(\"model.hdf5\",monitor='val_my_iou_metric', \n",
    "                                   mode = 'max', save_best_only=True, verbose=1),\n",
    "            swa,\n",
    "            callbacks.LearningRateScheduler(schedule=self._cosine_anneal_schedule)\n",
    "        ]\n",
    "\n",
    "        return callback_list\n",
    "\n",
    "    def _cosine_anneal_schedule(self, t):\n",
    "        cos_inner = np.pi * (t % (self.T // self.M))  # t - 1 is used when t has 1-based indexing.\n",
    "        cos_inner /= self.T // self.M\n",
    "        cos_out = np.cos(cos_inner) + 1\n",
    "        return float(self.alpha_zero / 2 * cos_out)"
   ]
  },
  {
   "cell_type": "code",
   "execution_count": null,
   "metadata": {
    "_uuid": "1ce25a439e43c2dd37ba7b7c72ec2a7248d9d883"
   },
   "outputs": [],
   "source": [
    "from keras.callbacks import EarlyStopping, ModelCheckpoint, ReduceLROnPlateau\n",
    "\n",
    "check_point = ModelCheckpoint('model.hdf5',verbose=True, save_best_only=True)\n",
    "early_stop = EarlyStopping(patience=5,verbose=True)\n",
    "model.fit(X_train,y_train.astype(int),\n",
    "          validation_data=(X_valid,y_valid.astype(int)),\n",
    "          epochs=5,\n",
    "          verbose=True,\n",
    "          callbacks=[early_stop,check_point]) "
   ]
  },
  {
   "cell_type": "code",
   "execution_count": null,
   "metadata": {
    "_uuid": "ea9b6f35ed9df227511c9b9d09ec944641142186"
   },
   "outputs": [],
   "source": [
    "from sklearn.metrics import accuracy_score\n",
    "# distribution of confidence that will be used as submission\n",
    "model.load_weights('model.hdf5')\n",
    "confidence_valid = model.predict(X_valid)[:,0]*2 -1\n",
    "print(accuracy_score(confidence_valid>0,y_valid))\n",
    "plt.hist(confidence_valid, bins='auto')\n",
    "plt.title(\"predicted confidence\")\n",
    "plt.show()"
   ]
  },
  {
   "cell_type": "code",
   "execution_count": null,
   "metadata": {
    "_uuid": "db874a65edbe3aecbcf4d75d75ce1a413f9e59c1"
   },
   "outputs": [],
   "source": [
    "# calculation of actual metric that is used to calculate final score\n",
    "r_valid = r_valid.clip(-1,1) # get rid of outliers. Where do they come from??\n",
    "x_t_i = confidence_valid * r_valid * u_valid\n",
    "data = {'day' : d_valid, 'x_t_i' : x_t_i}\n",
    "df = pd.DataFrame(data)\n",
    "x_t = df.groupby('day').sum().values.flatten()\n",
    "mean = np.mean(x_t)\n",
    "std = np.std(x_t)\n",
    "score_valid = mean / std\n",
    "print(score_valid)"
   ]
  },
  {
   "cell_type": "markdown",
   "metadata": {
    "_uuid": "2e91287f52d50931bd2a762086f05c7e5e7a00b9"
   },
   "source": [
    "# 5.Final Submission\n",
    "\n",
    "### Feature Gain & Split"
   ]
  },
  {
   "cell_type": "code",
   "execution_count": null,
   "metadata": {
    "_kg_hide-input": true,
    "_uuid": "ec8480cd8a2538aa04f520427a26ff2a4c39d1c1"
   },
   "outputs": [],
   "source": [
    "# import matplotlib.pyplot as plt\n",
    "# import seaborn as sns\n",
    "\n",
    "# df = pd.DataFrame({'imp': xgb_up.feature_importances_, 'col':fcol})\n",
    "# df = df.sort_values(['imp','col'], ascending=[True, False])\n",
    "# # _ = df.plot(kind='barh', x='col', y='imp', figsize=(7,12))\n",
    "\n",
    "\n",
    "# #plt.savefig('lgb_gain.png')\n",
    "# trace = go.Table(\n",
    "#     header=dict(values=list(df.columns),\n",
    "#                 fill = dict(color='rgba(55, 128, 191, 0.7)'),\n",
    "#                 align = ['left'] * 5),\n",
    "#     cells=dict(values=[df.imp,df.col],\n",
    "#                fill = dict(color='rgba(245, 246, 249, 1)'),\n",
    "#                align = ['left'] * 5))\n",
    "\n",
    "# data = [trace] \n",
    "# py.iplot(data, filename = 'pandas_table')"
   ]
  },
  {
   "cell_type": "code",
   "execution_count": null,
   "metadata": {
    "_kg_hide-input": true,
    "_uuid": "c471a95196dec34fbaa42fbe24684ac88732a74c"
   },
   "outputs": [],
   "source": [
    "# data = [df]\n",
    "# for dd in data:  \n",
    "#     colors = []\n",
    "#     for i in range(len(dd)):\n",
    "#          colors.append(generate_color())\n",
    "\n",
    "#     data = [\n",
    "#         go.Bar(\n",
    "#         orientation = 'h',\n",
    "#         x=dd.imp,\n",
    "#         y=dd.col,\n",
    "#         name='Features',\n",
    "#         textfont=dict(size=20),\n",
    "#             marker=dict(\n",
    "#             color= colors,\n",
    "#             line=dict(\n",
    "#                 color='#000000',\n",
    "#                 width=0.5\n",
    "#             ),\n",
    "#             opacity = 0.87\n",
    "#         )\n",
    "#     )\n",
    "#     ]\n",
    "#     layout= go.Layout(\n",
    "#         title= 'Feature Importance of XGBOOST',\n",
    "#         xaxis= dict(title='Columns', ticklen=5, zeroline=True, gridwidth=2),\n",
    "#         yaxis=dict(title='Value Count', ticklen=5, gridwidth=2),\n",
    "#         showlegend=True\n",
    "#     )\n",
    "\n",
    "#     py.iplot(dict(data=data,layout=layout), filename='horizontal-bar')"
   ]
  },
  {
   "cell_type": "code",
   "execution_count": null,
   "metadata": {
    "_kg_hide-input": false,
    "_uuid": "052eb0038e56c5ae0028ccf1de09c17ace3c7bef"
   },
   "outputs": [],
   "source": [
    "days = env.get_prediction_days()"
   ]
  },
  {
   "cell_type": "code",
   "execution_count": null,
   "metadata": {
    "_kg_hide-input": false,
    "_kg_hide-output": false,
    "_uuid": "5ab4cd055b24dc6480d3bf5f5ba8feb4b2d67f82"
   },
   "outputs": [],
   "source": [
    "import time\n",
    "n_days = 0\n",
    "prep_time = 0\n",
    "prediction_time = 0\n",
    "packaging_time = 0\n",
    "predicted_confidences = np.array([])\n",
    "for (market_obs_df, news_obs_df, predictions_template_df) in days:\n",
    "    n_days +=1\n",
    "    print(n_days,end=' ')\n",
    "    \n",
    "    t = time.time()\n",
    "\n",
    "    market_obs_df['assetCode_encoded'] = market_obs_df[cat].astype(str).apply(lambda x: encode(encoders[i], x))\n",
    "\n",
    "    market_obs_df[num_cols] = market_obs_df[num_cols].fillna(0)\n",
    "    market_obs_df[num_cols] = scaler.transform(market_obs_df[num_cols])\n",
    "    X_num_test = market_obs_df[num_cols].values\n",
    "    X_test = {'num':X_num_test}\n",
    "    X_test['assetCode'] = market_obs_df['assetCode_encoded'].values\n",
    "    \n",
    "    prep_time += time.time() - t\n",
    "    \n",
    "    t = time.time()\n",
    "    market_prediction = model.predict(X_test)[:,0]*2 -1\n",
    "    predicted_confidences = np.concatenate((predicted_confidences, market_prediction))\n",
    "    prediction_time += time.time() -t\n",
    "    \n",
    "    t = time.time()\n",
    "    preds = pd.DataFrame({'assetCode':market_obs_df['assetCode'],'confidence':market_prediction})\n",
    "    # insert predictions to template\n",
    "    predictions_template_df = predictions_template_df.merge(preds,how='left').drop('confidenceValue',axis=1).fillna(0).rename(columns={'confidence':'confidenceValue'})\n",
    "    env.predict(predictions_template_df)\n",
    "    packaging_time += time.time() - t\n",
    "\n",
    "env.write_submission_file()\n",
    "total = prep_time + prediction_time + packaging_time\n",
    "print(f'Preparing Data: {prep_time:.2f}s')\n",
    "print(f'Making Predictions: {prediction_time:.2f}s')\n",
    "print(f'Packing: {packaging_time:.2f}s')\n",
    "print(f'Total: {total:.2f}s')"
   ]
  },
  {
   "cell_type": "code",
   "execution_count": null,
   "metadata": {
    "_kg_hide-input": true,
    "_kg_hide-output": true,
    "_uuid": "ce00a707fdff38690e1e0a4f32df7496260447b2"
   },
   "outputs": [],
   "source": [
    "# sub  = pd.read_csv(\"submission.csv\")\n",
    "# sub.head()"
   ]
  },
  {
   "cell_type": "code",
   "execution_count": null,
   "metadata": {
    "_kg_hide-input": true,
    "_uuid": "60587611173a1e00816c08e600e8277d0b3bf805"
   },
   "outputs": [],
   "source": [
    "# import matplotlib.pyplot as plt\n",
    "# %matplotlib inline\n",
    "# from xgboost import plot_importance\n",
    "# plt.figure(num=None, figsize=(15, 10), dpi=80, facecolor='w', edgecolor='k')\n",
    "# plt.bar(range(len(xgb_up.feature_importances_)), xgb_up.feature_importances_)\n",
    "# plt.xticks(range(len(xgb_up.feature_importances_)), fcol, rotation='vertical');"
   ]
  },
  {
   "cell_type": "code",
   "execution_count": null,
   "metadata": {
    "_kg_hide-input": true,
    "_uuid": "70640ba095f3b0d08d4f757ef907b0a6a71e7675"
   },
   "outputs": [],
   "source": [
    "# distribution of confidence as a sanity check: they should be distributed as above\n",
    "plt.hist(predicted_confidences, bins='auto')\n",
    "plt.title(\"predicted confidence\")\n",
    "plt.show()"
   ]
  }
 ],
 "metadata": {
  "kernelspec": {
   "display_name": "Python 3",
   "language": "python",
   "name": "python3"
  },
  "language_info": {
   "codemirror_mode": {
    "name": "ipython",
    "version": 3
   },
   "file_extension": ".py",
   "mimetype": "text/x-python",
   "name": "python",
   "nbconvert_exporter": "python",
   "pygments_lexer": "ipython3",
   "version": "3.7.1"
  }
 },
 "nbformat": 4,
 "nbformat_minor": 1
}
